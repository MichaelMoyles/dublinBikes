{
 "cells": [
  {
   "cell_type": "markdown",
   "metadata": {},
   "source": [
    "**Machine Learning Model for dubblin bikes**"
   ]
  },
  {
   "cell_type": "code",
   "execution_count": 1,
   "metadata": {},
   "outputs": [],
   "source": [
    "# Library Imports.\n",
    "import pandas as pd\n",
    "import matplotlib.pyplot as plt\n",
    "import numpy as np\n",
    "import os\n",
    "\n",
    "# Allows plots to appear directly in the notebook.\n",
    "%matplotlib inline\n",
    "\n",
    "from patsy import dmatrices\n",
    "from sklearn.linear_model import LinearRegression\n",
    "from sklearn.model_selection import train_test_split\n",
    "from sklearn import metrics\n",
    "from sklearn.model_selection import cross_validate\n",
    "from sklearn.model_selection import cross_val_score "
   ]
  },
  {
   "cell_type": "markdown",
   "metadata": {},
   "source": [
    "Merging csv files into one data frame "
   ]
  },
  {
   "cell_type": "code",
   "execution_count": 2,
   "metadata": {},
   "outputs": [],
   "source": [
    "stationdf = pd.read_csv('stations.csv')\n",
    "availability = pd.read_csv('availability.csv')\n",
    "weather = pd.read_csv('current_weather.csv')"
   ]
  },
  {
   "cell_type": "code",
   "execution_count": 3,
   "metadata": {},
   "outputs": [
    {
     "data": {
      "text/html": [
       "<div>\n",
       "<style scoped>\n",
       "    .dataframe tbody tr th:only-of-type {\n",
       "        vertical-align: middle;\n",
       "    }\n",
       "\n",
       "    .dataframe tbody tr th {\n",
       "        vertical-align: top;\n",
       "    }\n",
       "\n",
       "    .dataframe thead th {\n",
       "        text-align: right;\n",
       "    }\n",
       "</style>\n",
       "<table border=\"1\" class=\"dataframe\">\n",
       "  <thead>\n",
       "    <tr style=\"text-align: right;\">\n",
       "      <th></th>\n",
       "      <th>number</th>\n",
       "      <th>available_bikes</th>\n",
       "      <th>available_bike_stands</th>\n",
       "      <th>status</th>\n",
       "      <th>last_update</th>\n",
       "      <th>timestamp</th>\n",
       "      <th>weather_desc</th>\n",
       "      <th>temp</th>\n",
       "      <th>visibility</th>\n",
       "      <th>wind_speed</th>\n",
       "      <th>wind_deg</th>\n",
       "      <th>bike_stands</th>\n",
       "    </tr>\n",
       "  </thead>\n",
       "  <tbody>\n",
       "    <tr>\n",
       "      <th>0</th>\n",
       "      <td>42</td>\n",
       "      <td>30</td>\n",
       "      <td>0</td>\n",
       "      <td>OPEN</td>\n",
       "      <td>1677185535000</td>\n",
       "      <td>1677185702</td>\n",
       "      <td>NaN</td>\n",
       "      <td>NaN</td>\n",
       "      <td>NaN</td>\n",
       "      <td>NaN</td>\n",
       "      <td>NaN</td>\n",
       "      <td>30.0</td>\n",
       "    </tr>\n",
       "    <tr>\n",
       "      <th>1</th>\n",
       "      <td>30</td>\n",
       "      <td>4</td>\n",
       "      <td>16</td>\n",
       "      <td>OPEN</td>\n",
       "      <td>1677185621000</td>\n",
       "      <td>1677185702</td>\n",
       "      <td>NaN</td>\n",
       "      <td>NaN</td>\n",
       "      <td>NaN</td>\n",
       "      <td>NaN</td>\n",
       "      <td>NaN</td>\n",
       "      <td>20.0</td>\n",
       "    </tr>\n",
       "    <tr>\n",
       "      <th>2</th>\n",
       "      <td>54</td>\n",
       "      <td>5</td>\n",
       "      <td>28</td>\n",
       "      <td>OPEN</td>\n",
       "      <td>1677185522000</td>\n",
       "      <td>1677185702</td>\n",
       "      <td>NaN</td>\n",
       "      <td>NaN</td>\n",
       "      <td>NaN</td>\n",
       "      <td>NaN</td>\n",
       "      <td>NaN</td>\n",
       "      <td>33.0</td>\n",
       "    </tr>\n",
       "    <tr>\n",
       "      <th>3</th>\n",
       "      <td>108</td>\n",
       "      <td>13</td>\n",
       "      <td>22</td>\n",
       "      <td>OPEN</td>\n",
       "      <td>1677185161000</td>\n",
       "      <td>1677185702</td>\n",
       "      <td>NaN</td>\n",
       "      <td>NaN</td>\n",
       "      <td>NaN</td>\n",
       "      <td>NaN</td>\n",
       "      <td>NaN</td>\n",
       "      <td>35.0</td>\n",
       "    </tr>\n",
       "    <tr>\n",
       "      <th>4</th>\n",
       "      <td>20</td>\n",
       "      <td>6</td>\n",
       "      <td>24</td>\n",
       "      <td>OPEN</td>\n",
       "      <td>1677185529000</td>\n",
       "      <td>1677185702</td>\n",
       "      <td>NaN</td>\n",
       "      <td>NaN</td>\n",
       "      <td>NaN</td>\n",
       "      <td>NaN</td>\n",
       "      <td>NaN</td>\n",
       "      <td>30.0</td>\n",
       "    </tr>\n",
       "  </tbody>\n",
       "</table>\n",
       "</div>"
      ],
      "text/plain": [
       "   number  available_bikes  available_bike_stands status    last_update  \\\n",
       "0      42               30                      0   OPEN  1677185535000   \n",
       "1      30                4                     16   OPEN  1677185621000   \n",
       "2      54                5                     28   OPEN  1677185522000   \n",
       "3     108               13                     22   OPEN  1677185161000   \n",
       "4      20                6                     24   OPEN  1677185529000   \n",
       "\n",
       "    timestamp weather_desc  temp  visibility  wind_speed  wind_deg  \\\n",
       "0  1677185702          NaN   NaN         NaN         NaN       NaN   \n",
       "1  1677185702          NaN   NaN         NaN         NaN       NaN   \n",
       "2  1677185702          NaN   NaN         NaN         NaN       NaN   \n",
       "3  1677185702          NaN   NaN         NaN         NaN       NaN   \n",
       "4  1677185702          NaN   NaN         NaN         NaN       NaN   \n",
       "\n",
       "   bike_stands  \n",
       "0         30.0  \n",
       "1         20.0  \n",
       "2         33.0  \n",
       "3         35.0  \n",
       "4         30.0  "
      ]
     },
     "execution_count": 3,
     "metadata": {},
     "output_type": "execute_result"
    }
   ],
   "source": [
    "MDF = availability.merge(weather[[\"weather_desc\", \"temp\", \"visibility\", \"wind_speed\", \"wind_deg\", \"timestamp\"]], on = [\"timestamp\"], how = \"left\")\n",
    "MDF = MDF.merge(stationdf[[\"bike_stands\", \"number\"]], on = [\"number\"], how = \"left\")\n",
    "MDF.head()\n"
   ]
  },
  {
   "cell_type": "markdown",
   "metadata": {},
   "source": [
    "**Cleaning new data frame**"
   ]
  },
  {
   "cell_type": "code",
   "execution_count": 4,
   "metadata": {},
   "outputs": [
    {
     "data": {
      "text/html": [
       "<div>\n",
       "<style scoped>\n",
       "    .dataframe tbody tr th:only-of-type {\n",
       "        vertical-align: middle;\n",
       "    }\n",
       "\n",
       "    .dataframe tbody tr th {\n",
       "        vertical-align: top;\n",
       "    }\n",
       "\n",
       "    .dataframe thead th {\n",
       "        text-align: right;\n",
       "    }\n",
       "</style>\n",
       "<table border=\"1\" class=\"dataframe\">\n",
       "  <thead>\n",
       "    <tr style=\"text-align: right;\">\n",
       "      <th></th>\n",
       "      <th>station_num</th>\n",
       "      <th>available_bikes</th>\n",
       "      <th>available_stands</th>\n",
       "      <th>timestamp</th>\n",
       "      <th>weather_desc</th>\n",
       "      <th>temp</th>\n",
       "      <th>visibility</th>\n",
       "      <th>wind_speed</th>\n",
       "      <th>wind_deg</th>\n",
       "      <th>total_stands</th>\n",
       "    </tr>\n",
       "  </thead>\n",
       "  <tbody>\n",
       "    <tr>\n",
       "      <th>0</th>\n",
       "      <td>42</td>\n",
       "      <td>30</td>\n",
       "      <td>0</td>\n",
       "      <td>1677185702</td>\n",
       "      <td>NaN</td>\n",
       "      <td>NaN</td>\n",
       "      <td>NaN</td>\n",
       "      <td>NaN</td>\n",
       "      <td>NaN</td>\n",
       "      <td>30.0</td>\n",
       "    </tr>\n",
       "    <tr>\n",
       "      <th>1</th>\n",
       "      <td>30</td>\n",
       "      <td>4</td>\n",
       "      <td>16</td>\n",
       "      <td>1677185702</td>\n",
       "      <td>NaN</td>\n",
       "      <td>NaN</td>\n",
       "      <td>NaN</td>\n",
       "      <td>NaN</td>\n",
       "      <td>NaN</td>\n",
       "      <td>20.0</td>\n",
       "    </tr>\n",
       "    <tr>\n",
       "      <th>2</th>\n",
       "      <td>54</td>\n",
       "      <td>5</td>\n",
       "      <td>28</td>\n",
       "      <td>1677185702</td>\n",
       "      <td>NaN</td>\n",
       "      <td>NaN</td>\n",
       "      <td>NaN</td>\n",
       "      <td>NaN</td>\n",
       "      <td>NaN</td>\n",
       "      <td>33.0</td>\n",
       "    </tr>\n",
       "    <tr>\n",
       "      <th>3</th>\n",
       "      <td>108</td>\n",
       "      <td>13</td>\n",
       "      <td>22</td>\n",
       "      <td>1677185702</td>\n",
       "      <td>NaN</td>\n",
       "      <td>NaN</td>\n",
       "      <td>NaN</td>\n",
       "      <td>NaN</td>\n",
       "      <td>NaN</td>\n",
       "      <td>35.0</td>\n",
       "    </tr>\n",
       "    <tr>\n",
       "      <th>4</th>\n",
       "      <td>20</td>\n",
       "      <td>6</td>\n",
       "      <td>24</td>\n",
       "      <td>1677185702</td>\n",
       "      <td>NaN</td>\n",
       "      <td>NaN</td>\n",
       "      <td>NaN</td>\n",
       "      <td>NaN</td>\n",
       "      <td>NaN</td>\n",
       "      <td>30.0</td>\n",
       "    </tr>\n",
       "  </tbody>\n",
       "</table>\n",
       "</div>"
      ],
      "text/plain": [
       "   station_num  available_bikes  available_stands   timestamp weather_desc  \\\n",
       "0           42               30                 0  1677185702          NaN   \n",
       "1           30                4                16  1677185702          NaN   \n",
       "2           54                5                28  1677185702          NaN   \n",
       "3          108               13                22  1677185702          NaN   \n",
       "4           20                6                24  1677185702          NaN   \n",
       "\n",
       "   temp  visibility  wind_speed  wind_deg  total_stands  \n",
       "0   NaN         NaN         NaN       NaN          30.0  \n",
       "1   NaN         NaN         NaN       NaN          20.0  \n",
       "2   NaN         NaN         NaN       NaN          33.0  \n",
       "3   NaN         NaN         NaN       NaN          35.0  \n",
       "4   NaN         NaN         NaN       NaN          30.0  "
      ]
     },
     "execution_count": 4,
     "metadata": {},
     "output_type": "execute_result"
    }
   ],
   "source": [
    "MDF.drop([\"status\", \"last_update\"], axis = 1, inplace = True)\n",
    "MDF.rename(columns = {\"bike_stands\": \"total_stands\", \"available_bike_stands\": \"available_stands\", \"number\": \"station_num\"}, inplace = True)\n",
    "MDF.head()"
   ]
  },
  {
   "cell_type": "markdown",
   "metadata": {},
   "source": [
    "**Changing time stamps to date and time**"
   ]
  },
  {
   "cell_type": "code",
   "execution_count": 5,
   "metadata": {},
   "outputs": [
    {
     "data": {
      "text/html": [
       "<div>\n",
       "<style scoped>\n",
       "    .dataframe tbody tr th:only-of-type {\n",
       "        vertical-align: middle;\n",
       "    }\n",
       "\n",
       "    .dataframe tbody tr th {\n",
       "        vertical-align: top;\n",
       "    }\n",
       "\n",
       "    .dataframe thead th {\n",
       "        text-align: right;\n",
       "    }\n",
       "</style>\n",
       "<table border=\"1\" class=\"dataframe\">\n",
       "  <thead>\n",
       "    <tr style=\"text-align: right;\">\n",
       "      <th></th>\n",
       "      <th>station_num</th>\n",
       "      <th>available_bikes</th>\n",
       "      <th>available_stands</th>\n",
       "      <th>weather_desc</th>\n",
       "      <th>temp</th>\n",
       "      <th>visibility</th>\n",
       "      <th>wind_speed</th>\n",
       "      <th>wind_deg</th>\n",
       "      <th>total_stands</th>\n",
       "      <th>month</th>\n",
       "      <th>day</th>\n",
       "      <th>hour</th>\n",
       "    </tr>\n",
       "  </thead>\n",
       "  <tbody>\n",
       "    <tr>\n",
       "      <th>0</th>\n",
       "      <td>42</td>\n",
       "      <td>30</td>\n",
       "      <td>0</td>\n",
       "      <td>NaN</td>\n",
       "      <td>NaN</td>\n",
       "      <td>NaN</td>\n",
       "      <td>NaN</td>\n",
       "      <td>NaN</td>\n",
       "      <td>30.0</td>\n",
       "      <td>2</td>\n",
       "      <td>3</td>\n",
       "      <td>20</td>\n",
       "    </tr>\n",
       "    <tr>\n",
       "      <th>1</th>\n",
       "      <td>30</td>\n",
       "      <td>4</td>\n",
       "      <td>16</td>\n",
       "      <td>NaN</td>\n",
       "      <td>NaN</td>\n",
       "      <td>NaN</td>\n",
       "      <td>NaN</td>\n",
       "      <td>NaN</td>\n",
       "      <td>20.0</td>\n",
       "      <td>2</td>\n",
       "      <td>3</td>\n",
       "      <td>20</td>\n",
       "    </tr>\n",
       "    <tr>\n",
       "      <th>2</th>\n",
       "      <td>54</td>\n",
       "      <td>5</td>\n",
       "      <td>28</td>\n",
       "      <td>NaN</td>\n",
       "      <td>NaN</td>\n",
       "      <td>NaN</td>\n",
       "      <td>NaN</td>\n",
       "      <td>NaN</td>\n",
       "      <td>33.0</td>\n",
       "      <td>2</td>\n",
       "      <td>3</td>\n",
       "      <td>20</td>\n",
       "    </tr>\n",
       "    <tr>\n",
       "      <th>3</th>\n",
       "      <td>108</td>\n",
       "      <td>13</td>\n",
       "      <td>22</td>\n",
       "      <td>NaN</td>\n",
       "      <td>NaN</td>\n",
       "      <td>NaN</td>\n",
       "      <td>NaN</td>\n",
       "      <td>NaN</td>\n",
       "      <td>35.0</td>\n",
       "      <td>2</td>\n",
       "      <td>3</td>\n",
       "      <td>20</td>\n",
       "    </tr>\n",
       "    <tr>\n",
       "      <th>4</th>\n",
       "      <td>20</td>\n",
       "      <td>6</td>\n",
       "      <td>24</td>\n",
       "      <td>NaN</td>\n",
       "      <td>NaN</td>\n",
       "      <td>NaN</td>\n",
       "      <td>NaN</td>\n",
       "      <td>NaN</td>\n",
       "      <td>30.0</td>\n",
       "      <td>2</td>\n",
       "      <td>3</td>\n",
       "      <td>20</td>\n",
       "    </tr>\n",
       "  </tbody>\n",
       "</table>\n",
       "</div>"
      ],
      "text/plain": [
       "   station_num  available_bikes  available_stands weather_desc  temp  \\\n",
       "0           42               30                 0          NaN   NaN   \n",
       "1           30                4                16          NaN   NaN   \n",
       "2           54                5                28          NaN   NaN   \n",
       "3          108               13                22          NaN   NaN   \n",
       "4           20                6                24          NaN   NaN   \n",
       "\n",
       "   visibility  wind_speed  wind_deg  total_stands  month  day  hour  \n",
       "0         NaN         NaN       NaN          30.0      2    3    20  \n",
       "1         NaN         NaN       NaN          20.0      2    3    20  \n",
       "2         NaN         NaN       NaN          33.0      2    3    20  \n",
       "3         NaN         NaN       NaN          35.0      2    3    20  \n",
       "4         NaN         NaN       NaN          30.0      2    3    20  "
      ]
     },
     "execution_count": 5,
     "metadata": {},
     "output_type": "execute_result"
    }
   ],
   "source": [
    "MDF[\"timestamp\"] = pd.to_datetime(MDF[\"timestamp\"], unit = \"s\")\n",
    "MDF[\"month\"] = MDF['timestamp'].dt.month  # 1-12\n",
    "MDF[\"day\"] = MDF['timestamp'].dt.dayofweek  # 0-6\n",
    "MDF[\"hour\"] = MDF['timestamp'].dt.hour  # 0-23\n",
    "MDF.drop(\"timestamp\", axis = 1, inplace = True)\n",
    "MDF.head()"
   ]
  },
  {
   "cell_type": "markdown",
   "metadata": {},
   "source": [
    "**Reordering columns to match other team formats**"
   ]
  },
  {
   "cell_type": "code",
   "execution_count": 7,
   "metadata": {},
   "outputs": [
    {
     "data": {
      "text/html": [
       "<div>\n",
       "<style scoped>\n",
       "    .dataframe tbody tr th:only-of-type {\n",
       "        vertical-align: middle;\n",
       "    }\n",
       "\n",
       "    .dataframe tbody tr th {\n",
       "        vertical-align: top;\n",
       "    }\n",
       "\n",
       "    .dataframe thead th {\n",
       "        text-align: right;\n",
       "    }\n",
       "</style>\n",
       "<table border=\"1\" class=\"dataframe\">\n",
       "  <thead>\n",
       "    <tr style=\"text-align: right;\">\n",
       "      <th></th>\n",
       "      <th>month</th>\n",
       "      <th>day</th>\n",
       "      <th>hour</th>\n",
       "      <th>station_num</th>\n",
       "      <th>total_stands</th>\n",
       "      <th>available_stands</th>\n",
       "      <th>tempC</th>\n",
       "      <th>weather_desc</th>\n",
       "      <th>visibility</th>\n",
       "      <th>wind_speed</th>\n",
       "      <th>wind_deg</th>\n",
       "      <th>available_bikes</th>\n",
       "    </tr>\n",
       "  </thead>\n",
       "  <tbody>\n",
       "    <tr>\n",
       "      <th>0</th>\n",
       "      <td>2</td>\n",
       "      <td>3</td>\n",
       "      <td>20</td>\n",
       "      <td>42</td>\n",
       "      <td>30.0</td>\n",
       "      <td>0</td>\n",
       "      <td>NaN</td>\n",
       "      <td>NaN</td>\n",
       "      <td>NaN</td>\n",
       "      <td>NaN</td>\n",
       "      <td>NaN</td>\n",
       "      <td>30</td>\n",
       "    </tr>\n",
       "    <tr>\n",
       "      <th>1</th>\n",
       "      <td>2</td>\n",
       "      <td>3</td>\n",
       "      <td>20</td>\n",
       "      <td>30</td>\n",
       "      <td>20.0</td>\n",
       "      <td>16</td>\n",
       "      <td>NaN</td>\n",
       "      <td>NaN</td>\n",
       "      <td>NaN</td>\n",
       "      <td>NaN</td>\n",
       "      <td>NaN</td>\n",
       "      <td>4</td>\n",
       "    </tr>\n",
       "    <tr>\n",
       "      <th>2</th>\n",
       "      <td>2</td>\n",
       "      <td>3</td>\n",
       "      <td>20</td>\n",
       "      <td>54</td>\n",
       "      <td>33.0</td>\n",
       "      <td>28</td>\n",
       "      <td>NaN</td>\n",
       "      <td>NaN</td>\n",
       "      <td>NaN</td>\n",
       "      <td>NaN</td>\n",
       "      <td>NaN</td>\n",
       "      <td>5</td>\n",
       "    </tr>\n",
       "    <tr>\n",
       "      <th>3</th>\n",
       "      <td>2</td>\n",
       "      <td>3</td>\n",
       "      <td>20</td>\n",
       "      <td>108</td>\n",
       "      <td>35.0</td>\n",
       "      <td>22</td>\n",
       "      <td>NaN</td>\n",
       "      <td>NaN</td>\n",
       "      <td>NaN</td>\n",
       "      <td>NaN</td>\n",
       "      <td>NaN</td>\n",
       "      <td>13</td>\n",
       "    </tr>\n",
       "    <tr>\n",
       "      <th>4</th>\n",
       "      <td>2</td>\n",
       "      <td>3</td>\n",
       "      <td>20</td>\n",
       "      <td>20</td>\n",
       "      <td>30.0</td>\n",
       "      <td>24</td>\n",
       "      <td>NaN</td>\n",
       "      <td>NaN</td>\n",
       "      <td>NaN</td>\n",
       "      <td>NaN</td>\n",
       "      <td>NaN</td>\n",
       "      <td>6</td>\n",
       "    </tr>\n",
       "  </tbody>\n",
       "</table>\n",
       "</div>"
      ],
      "text/plain": [
       "   month  day  hour  station_num  total_stands  available_stands  tempC  \\\n",
       "0      2    3    20           42          30.0                 0    NaN   \n",
       "1      2    3    20           30          20.0                16    NaN   \n",
       "2      2    3    20           54          33.0                28    NaN   \n",
       "3      2    3    20          108          35.0                22    NaN   \n",
       "4      2    3    20           20          30.0                24    NaN   \n",
       "\n",
       "  weather_desc  visibility  wind_speed  wind_deg  available_bikes  \n",
       "0          NaN         NaN         NaN       NaN               30  \n",
       "1          NaN         NaN         NaN       NaN                4  \n",
       "2          NaN         NaN         NaN       NaN                5  \n",
       "3          NaN         NaN         NaN       NaN               13  \n",
       "4          NaN         NaN         NaN       NaN                6  "
      ]
     },
     "execution_count": 7,
     "metadata": {},
     "output_type": "execute_result"
    }
   ],
   "source": [
    "column_order = [\"month\", \"day\", \"hour\", \"station_num\", \"total_stands\", \"available_stands\", \"tempC\", \"weather_desc\", \"visibility\", \"wind_speed\", \"wind_deg\", \"available_bikes\"]\n",
    "MDF = MDF.reindex(columns = column_order)\n",
    "MDF.head()"
   ]
  },
  {
   "cell_type": "markdown",
   "metadata": {},
   "source": [
    "**Dropping rows with no weather data**"
   ]
  },
  {
   "cell_type": "code",
   "execution_count": 8,
   "metadata": {},
   "outputs": [
    {
     "data": {
      "text/html": [
       "<div>\n",
       "<style scoped>\n",
       "    .dataframe tbody tr th:only-of-type {\n",
       "        vertical-align: middle;\n",
       "    }\n",
       "\n",
       "    .dataframe tbody tr th {\n",
       "        vertical-align: top;\n",
       "    }\n",
       "\n",
       "    .dataframe thead th {\n",
       "        text-align: right;\n",
       "    }\n",
       "</style>\n",
       "<table border=\"1\" class=\"dataframe\">\n",
       "  <thead>\n",
       "    <tr style=\"text-align: right;\">\n",
       "      <th></th>\n",
       "      <th>month</th>\n",
       "      <th>day</th>\n",
       "      <th>hour</th>\n",
       "      <th>station_num</th>\n",
       "      <th>total_stands</th>\n",
       "      <th>available_stands</th>\n",
       "      <th>tempC</th>\n",
       "      <th>weather_desc</th>\n",
       "      <th>visibility</th>\n",
       "      <th>wind_speed</th>\n",
       "      <th>wind_deg</th>\n",
       "      <th>available_bikes</th>\n",
       "    </tr>\n",
       "  </thead>\n",
       "  <tbody>\n",
       "    <tr>\n",
       "      <th>336580</th>\n",
       "      <td>3</td>\n",
       "      <td>0</td>\n",
       "      <td>14</td>\n",
       "      <td>42</td>\n",
       "      <td>30.0</td>\n",
       "      <td>14</td>\n",
       "      <td>5.66</td>\n",
       "      <td>light rain</td>\n",
       "      <td>10000.0</td>\n",
       "      <td>3.09</td>\n",
       "      <td>290.0</td>\n",
       "      <td>16</td>\n",
       "    </tr>\n",
       "    <tr>\n",
       "      <th>336581</th>\n",
       "      <td>3</td>\n",
       "      <td>0</td>\n",
       "      <td>14</td>\n",
       "      <td>30</td>\n",
       "      <td>20.0</td>\n",
       "      <td>20</td>\n",
       "      <td>5.66</td>\n",
       "      <td>light rain</td>\n",
       "      <td>10000.0</td>\n",
       "      <td>3.09</td>\n",
       "      <td>290.0</td>\n",
       "      <td>0</td>\n",
       "    </tr>\n",
       "    <tr>\n",
       "      <th>336582</th>\n",
       "      <td>3</td>\n",
       "      <td>0</td>\n",
       "      <td>14</td>\n",
       "      <td>54</td>\n",
       "      <td>33.0</td>\n",
       "      <td>16</td>\n",
       "      <td>5.66</td>\n",
       "      <td>light rain</td>\n",
       "      <td>10000.0</td>\n",
       "      <td>3.09</td>\n",
       "      <td>290.0</td>\n",
       "      <td>17</td>\n",
       "    </tr>\n",
       "    <tr>\n",
       "      <th>336583</th>\n",
       "      <td>3</td>\n",
       "      <td>0</td>\n",
       "      <td>14</td>\n",
       "      <td>108</td>\n",
       "      <td>35.0</td>\n",
       "      <td>21</td>\n",
       "      <td>5.66</td>\n",
       "      <td>light rain</td>\n",
       "      <td>10000.0</td>\n",
       "      <td>3.09</td>\n",
       "      <td>290.0</td>\n",
       "      <td>14</td>\n",
       "    </tr>\n",
       "    <tr>\n",
       "      <th>336584</th>\n",
       "      <td>3</td>\n",
       "      <td>0</td>\n",
       "      <td>14</td>\n",
       "      <td>20</td>\n",
       "      <td>30.0</td>\n",
       "      <td>8</td>\n",
       "      <td>5.66</td>\n",
       "      <td>light rain</td>\n",
       "      <td>10000.0</td>\n",
       "      <td>3.09</td>\n",
       "      <td>290.0</td>\n",
       "      <td>22</td>\n",
       "    </tr>\n",
       "  </tbody>\n",
       "</table>\n",
       "</div>"
      ],
      "text/plain": [
       "        month  day  hour  station_num  total_stands  available_stands  tempC  \\\n",
       "336580      3    0    14           42          30.0                14   5.66   \n",
       "336581      3    0    14           30          20.0                20   5.66   \n",
       "336582      3    0    14           54          33.0                16   5.66   \n",
       "336583      3    0    14          108          35.0                21   5.66   \n",
       "336584      3    0    14           20          30.0                 8   5.66   \n",
       "\n",
       "       weather_desc  visibility  wind_speed  wind_deg  available_bikes  \n",
       "336580   light rain     10000.0        3.09     290.0               16  \n",
       "336581   light rain     10000.0        3.09     290.0                0  \n",
       "336582   light rain     10000.0        3.09     290.0               17  \n",
       "336583   light rain     10000.0        3.09     290.0               14  \n",
       "336584   light rain     10000.0        3.09     290.0               22  "
      ]
     },
     "execution_count": 8,
     "metadata": {},
     "output_type": "execute_result"
    }
   ],
   "source": [
    "MDF.dropna(inplace = True)\n",
    "MDF.head()"
   ]
  },
  {
   "cell_type": "markdown",
   "metadata": {},
   "source": [
    "**Replacing weather descriptions with weather IDs**"
   ]
  },
  {
   "cell_type": "code",
   "execution_count": 9,
   "metadata": {},
   "outputs": [
    {
     "data": {
      "text/html": [
       "<div>\n",
       "<style scoped>\n",
       "    .dataframe tbody tr th:only-of-type {\n",
       "        vertical-align: middle;\n",
       "    }\n",
       "\n",
       "    .dataframe tbody tr th {\n",
       "        vertical-align: top;\n",
       "    }\n",
       "\n",
       "    .dataframe thead th {\n",
       "        text-align: right;\n",
       "    }\n",
       "</style>\n",
       "<table border=\"1\" class=\"dataframe\">\n",
       "  <thead>\n",
       "    <tr style=\"text-align: right;\">\n",
       "      <th></th>\n",
       "      <th>month</th>\n",
       "      <th>day</th>\n",
       "      <th>hour</th>\n",
       "      <th>station_num</th>\n",
       "      <th>total_stands</th>\n",
       "      <th>available_stands</th>\n",
       "      <th>tempC</th>\n",
       "      <th>weather_desc</th>\n",
       "      <th>visibility</th>\n",
       "      <th>wind_speed</th>\n",
       "      <th>wind_deg</th>\n",
       "      <th>available_bikes</th>\n",
       "    </tr>\n",
       "  </thead>\n",
       "  <tbody>\n",
       "    <tr>\n",
       "      <th>336580</th>\n",
       "      <td>3</td>\n",
       "      <td>0</td>\n",
       "      <td>14</td>\n",
       "      <td>42</td>\n",
       "      <td>30.0</td>\n",
       "      <td>14</td>\n",
       "      <td>5.66</td>\n",
       "      <td>500</td>\n",
       "      <td>10000.0</td>\n",
       "      <td>3.09</td>\n",
       "      <td>290.0</td>\n",
       "      <td>16</td>\n",
       "    </tr>\n",
       "    <tr>\n",
       "      <th>336581</th>\n",
       "      <td>3</td>\n",
       "      <td>0</td>\n",
       "      <td>14</td>\n",
       "      <td>30</td>\n",
       "      <td>20.0</td>\n",
       "      <td>20</td>\n",
       "      <td>5.66</td>\n",
       "      <td>500</td>\n",
       "      <td>10000.0</td>\n",
       "      <td>3.09</td>\n",
       "      <td>290.0</td>\n",
       "      <td>0</td>\n",
       "    </tr>\n",
       "    <tr>\n",
       "      <th>336582</th>\n",
       "      <td>3</td>\n",
       "      <td>0</td>\n",
       "      <td>14</td>\n",
       "      <td>54</td>\n",
       "      <td>33.0</td>\n",
       "      <td>16</td>\n",
       "      <td>5.66</td>\n",
       "      <td>500</td>\n",
       "      <td>10000.0</td>\n",
       "      <td>3.09</td>\n",
       "      <td>290.0</td>\n",
       "      <td>17</td>\n",
       "    </tr>\n",
       "    <tr>\n",
       "      <th>336583</th>\n",
       "      <td>3</td>\n",
       "      <td>0</td>\n",
       "      <td>14</td>\n",
       "      <td>108</td>\n",
       "      <td>35.0</td>\n",
       "      <td>21</td>\n",
       "      <td>5.66</td>\n",
       "      <td>500</td>\n",
       "      <td>10000.0</td>\n",
       "      <td>3.09</td>\n",
       "      <td>290.0</td>\n",
       "      <td>14</td>\n",
       "    </tr>\n",
       "    <tr>\n",
       "      <th>336584</th>\n",
       "      <td>3</td>\n",
       "      <td>0</td>\n",
       "      <td>14</td>\n",
       "      <td>20</td>\n",
       "      <td>30.0</td>\n",
       "      <td>8</td>\n",
       "      <td>5.66</td>\n",
       "      <td>500</td>\n",
       "      <td>10000.0</td>\n",
       "      <td>3.09</td>\n",
       "      <td>290.0</td>\n",
       "      <td>22</td>\n",
       "    </tr>\n",
       "  </tbody>\n",
       "</table>\n",
       "</div>"
      ],
      "text/plain": [
       "        month  day  hour  station_num  total_stands  available_stands  tempC  \\\n",
       "336580      3    0    14           42          30.0                14   5.66   \n",
       "336581      3    0    14           30          20.0                20   5.66   \n",
       "336582      3    0    14           54          33.0                16   5.66   \n",
       "336583      3    0    14          108          35.0                21   5.66   \n",
       "336584      3    0    14           20          30.0                 8   5.66   \n",
       "\n",
       "        weather_desc  visibility  wind_speed  wind_deg  available_bikes  \n",
       "336580           500     10000.0        3.09     290.0               16  \n",
       "336581           500     10000.0        3.09     290.0                0  \n",
       "336582           500     10000.0        3.09     290.0               17  \n",
       "336583           500     10000.0        3.09     290.0               14  \n",
       "336584           500     10000.0        3.09     290.0               22  "
      ]
     },
     "execution_count": 9,
     "metadata": {},
     "output_type": "execute_result"
    }
   ],
   "source": [
    "MDF[\"weather_desc\"] = MDF[\"weather_desc\"].replace({\"light rain\": 500, \"broken clouds\": 803, \"moderate rain\": 501, \"light intensity drizzle\": 300, \"clear sky\": 800, \"overcast clouds\": 804, \n",
    "                                                 \"scattered clouds\": 802, \"few clouds\": 801, \"snow\": 601, \"heavy intensity rain\": 502, \"sleet\": 611, \"mist\": 701, \"light snow\": 600, \n",
    "                                                 \"light intensity shower rain\": 520, \"light intensity drizzle rain\": 310, \"shower rain\": 521, \"fog\": 741})\n",
    "MDF.head()"
   ]
  },
  {
   "cell_type": "markdown",
   "metadata": {},
   "source": [
    "**Changing temperature from Kelvin to Celsius**"
   ]
  },
  {
   "cell_type": "code",
   "execution_count": 6,
   "metadata": {},
   "outputs": [],
   "source": [
    "MDF[\"tempC\"] = MDF[\"temp\"]-273.15\n",
    "MDF.drop('temp', axis = 1, inplace = True)"
   ]
  },
  {
   "cell_type": "markdown",
   "metadata": {},
   "source": [
    "**Data separation**"
   ]
  },
  {
   "cell_type": "markdown",
   "metadata": {},
   "source": [
    "**Y variable data**"
   ]
  },
  {
   "cell_type": "code",
   "execution_count": 10,
   "metadata": {},
   "outputs": [
    {
     "data": {
      "text/plain": [
       "336580     16\n",
       "336581      0\n",
       "336582     17\n",
       "336583     14\n",
       "336584     22\n",
       "           ..\n",
       "1281561     7\n",
       "1281562     0\n",
       "1281563     0\n",
       "1281564    16\n",
       "1281565    11\n",
       "Name: available_bikes, Length: 787740, dtype: int64"
      ]
     },
     "execution_count": 10,
     "metadata": {},
     "output_type": "execute_result"
    }
   ],
   "source": [
    "y = MDF[\"available_bikes\"]\n",
    "y"
   ]
  },
  {
   "cell_type": "markdown",
   "metadata": {},
   "source": [
    "**X variable**"
   ]
  },
  {
   "cell_type": "code",
   "execution_count": 11,
   "metadata": {},
   "outputs": [
    {
     "data": {
      "text/html": [
       "<div>\n",
       "<style scoped>\n",
       "    .dataframe tbody tr th:only-of-type {\n",
       "        vertical-align: middle;\n",
       "    }\n",
       "\n",
       "    .dataframe tbody tr th {\n",
       "        vertical-align: top;\n",
       "    }\n",
       "\n",
       "    .dataframe thead th {\n",
       "        text-align: right;\n",
       "    }\n",
       "</style>\n",
       "<table border=\"1\" class=\"dataframe\">\n",
       "  <thead>\n",
       "    <tr style=\"text-align: right;\">\n",
       "      <th></th>\n",
       "      <th>month</th>\n",
       "      <th>day</th>\n",
       "      <th>hour</th>\n",
       "      <th>station_num</th>\n",
       "      <th>total_stands</th>\n",
       "      <th>available_stands</th>\n",
       "      <th>tempC</th>\n",
       "      <th>weather_desc</th>\n",
       "      <th>visibility</th>\n",
       "      <th>wind_speed</th>\n",
       "      <th>wind_deg</th>\n",
       "    </tr>\n",
       "  </thead>\n",
       "  <tbody>\n",
       "    <tr>\n",
       "      <th>336580</th>\n",
       "      <td>3</td>\n",
       "      <td>0</td>\n",
       "      <td>14</td>\n",
       "      <td>42</td>\n",
       "      <td>30.0</td>\n",
       "      <td>14</td>\n",
       "      <td>5.66</td>\n",
       "      <td>500</td>\n",
       "      <td>10000.0</td>\n",
       "      <td>3.09</td>\n",
       "      <td>290.0</td>\n",
       "    </tr>\n",
       "    <tr>\n",
       "      <th>336581</th>\n",
       "      <td>3</td>\n",
       "      <td>0</td>\n",
       "      <td>14</td>\n",
       "      <td>30</td>\n",
       "      <td>20.0</td>\n",
       "      <td>20</td>\n",
       "      <td>5.66</td>\n",
       "      <td>500</td>\n",
       "      <td>10000.0</td>\n",
       "      <td>3.09</td>\n",
       "      <td>290.0</td>\n",
       "    </tr>\n",
       "    <tr>\n",
       "      <th>336582</th>\n",
       "      <td>3</td>\n",
       "      <td>0</td>\n",
       "      <td>14</td>\n",
       "      <td>54</td>\n",
       "      <td>33.0</td>\n",
       "      <td>16</td>\n",
       "      <td>5.66</td>\n",
       "      <td>500</td>\n",
       "      <td>10000.0</td>\n",
       "      <td>3.09</td>\n",
       "      <td>290.0</td>\n",
       "    </tr>\n",
       "    <tr>\n",
       "      <th>336583</th>\n",
       "      <td>3</td>\n",
       "      <td>0</td>\n",
       "      <td>14</td>\n",
       "      <td>108</td>\n",
       "      <td>35.0</td>\n",
       "      <td>21</td>\n",
       "      <td>5.66</td>\n",
       "      <td>500</td>\n",
       "      <td>10000.0</td>\n",
       "      <td>3.09</td>\n",
       "      <td>290.0</td>\n",
       "    </tr>\n",
       "    <tr>\n",
       "      <th>336584</th>\n",
       "      <td>3</td>\n",
       "      <td>0</td>\n",
       "      <td>14</td>\n",
       "      <td>20</td>\n",
       "      <td>30.0</td>\n",
       "      <td>8</td>\n",
       "      <td>5.66</td>\n",
       "      <td>500</td>\n",
       "      <td>10000.0</td>\n",
       "      <td>3.09</td>\n",
       "      <td>290.0</td>\n",
       "    </tr>\n",
       "    <tr>\n",
       "      <th>...</th>\n",
       "      <td>...</td>\n",
       "      <td>...</td>\n",
       "      <td>...</td>\n",
       "      <td>...</td>\n",
       "      <td>...</td>\n",
       "      <td>...</td>\n",
       "      <td>...</td>\n",
       "      <td>...</td>\n",
       "      <td>...</td>\n",
       "      <td>...</td>\n",
       "      <td>...</td>\n",
       "    </tr>\n",
       "    <tr>\n",
       "      <th>1281561</th>\n",
       "      <td>4</td>\n",
       "      <td>1</td>\n",
       "      <td>8</td>\n",
       "      <td>39</td>\n",
       "      <td>20.0</td>\n",
       "      <td>13</td>\n",
       "      <td>8.85</td>\n",
       "      <td>803</td>\n",
       "      <td>10000.0</td>\n",
       "      <td>3.09</td>\n",
       "      <td>160.0</td>\n",
       "    </tr>\n",
       "    <tr>\n",
       "      <th>1281562</th>\n",
       "      <td>4</td>\n",
       "      <td>1</td>\n",
       "      <td>8</td>\n",
       "      <td>83</td>\n",
       "      <td>40.0</td>\n",
       "      <td>40</td>\n",
       "      <td>8.85</td>\n",
       "      <td>803</td>\n",
       "      <td>10000.0</td>\n",
       "      <td>3.09</td>\n",
       "      <td>160.0</td>\n",
       "    </tr>\n",
       "    <tr>\n",
       "      <th>1281563</th>\n",
       "      <td>4</td>\n",
       "      <td>1</td>\n",
       "      <td>8</td>\n",
       "      <td>92</td>\n",
       "      <td>40.0</td>\n",
       "      <td>40</td>\n",
       "      <td>8.85</td>\n",
       "      <td>803</td>\n",
       "      <td>10000.0</td>\n",
       "      <td>3.09</td>\n",
       "      <td>160.0</td>\n",
       "    </tr>\n",
       "    <tr>\n",
       "      <th>1281564</th>\n",
       "      <td>4</td>\n",
       "      <td>1</td>\n",
       "      <td>8</td>\n",
       "      <td>21</td>\n",
       "      <td>30.0</td>\n",
       "      <td>14</td>\n",
       "      <td>8.85</td>\n",
       "      <td>803</td>\n",
       "      <td>10000.0</td>\n",
       "      <td>3.09</td>\n",
       "      <td>160.0</td>\n",
       "    </tr>\n",
       "    <tr>\n",
       "      <th>1281565</th>\n",
       "      <td>4</td>\n",
       "      <td>1</td>\n",
       "      <td>8</td>\n",
       "      <td>88</td>\n",
       "      <td>30.0</td>\n",
       "      <td>19</td>\n",
       "      <td>8.85</td>\n",
       "      <td>803</td>\n",
       "      <td>10000.0</td>\n",
       "      <td>3.09</td>\n",
       "      <td>160.0</td>\n",
       "    </tr>\n",
       "  </tbody>\n",
       "</table>\n",
       "<p>787740 rows × 11 columns</p>\n",
       "</div>"
      ],
      "text/plain": [
       "         month  day  hour  station_num  total_stands  available_stands  tempC  \\\n",
       "336580       3    0    14           42          30.0                14   5.66   \n",
       "336581       3    0    14           30          20.0                20   5.66   \n",
       "336582       3    0    14           54          33.0                16   5.66   \n",
       "336583       3    0    14          108          35.0                21   5.66   \n",
       "336584       3    0    14           20          30.0                 8   5.66   \n",
       "...        ...  ...   ...          ...           ...               ...    ...   \n",
       "1281561      4    1     8           39          20.0                13   8.85   \n",
       "1281562      4    1     8           83          40.0                40   8.85   \n",
       "1281563      4    1     8           92          40.0                40   8.85   \n",
       "1281564      4    1     8           21          30.0                14   8.85   \n",
       "1281565      4    1     8           88          30.0                19   8.85   \n",
       "\n",
       "         weather_desc  visibility  wind_speed  wind_deg  \n",
       "336580            500     10000.0        3.09     290.0  \n",
       "336581            500     10000.0        3.09     290.0  \n",
       "336582            500     10000.0        3.09     290.0  \n",
       "336583            500     10000.0        3.09     290.0  \n",
       "336584            500     10000.0        3.09     290.0  \n",
       "...               ...         ...         ...       ...  \n",
       "1281561           803     10000.0        3.09     160.0  \n",
       "1281562           803     10000.0        3.09     160.0  \n",
       "1281563           803     10000.0        3.09     160.0  \n",
       "1281564           803     10000.0        3.09     160.0  \n",
       "1281565           803     10000.0        3.09     160.0  \n",
       "\n",
       "[787740 rows x 11 columns]"
      ]
     },
     "execution_count": 11,
     "metadata": {},
     "output_type": "execute_result"
    }
   ],
   "source": [
    "x = MDF.drop(\"available_bikes\", axis = 1)\n",
    "x "
   ]
  },
  {
   "cell_type": "markdown",
   "metadata": {},
   "source": [
    "**Creating data sets**"
   ]
  },
  {
   "cell_type": "code",
   "execution_count": 12,
   "metadata": {},
   "outputs": [],
   "source": [
    "from sklearn.model_selection import train_test_split\n",
    "x_train, x_test, y_train, y_test = train_test_split(x, y, test_size = 0.2, random_state = 100)"
   ]
  },
  {
   "cell_type": "markdown",
   "metadata": {},
   "source": [
    "**Model Building**"
   ]
  },
  {
   "cell_type": "markdown",
   "metadata": {},
   "source": [
    "**Training Model**"
   ]
  },
  {
   "cell_type": "code",
   "execution_count": 13,
   "metadata": {},
   "outputs": [
    {
     "data": {
      "text/plain": [
       "LinearRegression()"
      ]
     },
     "execution_count": 13,
     "metadata": {},
     "output_type": "execute_result"
    }
   ],
   "source": [
    "from sklearn.linear_model import LinearRegression\n",
    "\n",
    "lr = LinearRegression()\n",
    "lr.fit(x_train, y_train)"
   ]
  },
  {
   "cell_type": "markdown",
   "metadata": {},
   "source": [
    "**Implementing the model**"
   ]
  },
  {
   "cell_type": "code",
   "execution_count": 14,
   "metadata": {},
   "outputs": [
    {
     "name": "stdout",
     "output_type": "stream",
     "text": [
      "[ 0.71176789  1.65821602 25.27927443 10.34408724  0.75660027 12.47505307\n",
      " 27.69754294 37.89680168 17.80751586 15.96859882  5.13459385  7.83794881\n",
      "  7.86638828  4.56053744 27.14496372 14.98437126 19.18017325  6.94492044\n",
      "  7.74065055 10.66147116 15.56664632 16.48504561 20.62627469  9.69803079\n",
      " 25.15085317  9.37853359 12.93506156 17.35865515 29.98199599 12.23237792\n",
      "  1.13566416 23.35626532 15.5279953   7.44949089 11.61738455 18.34318049\n",
      " 17.75678555 28.65560675  0.77572027  5.38709058  0.48312809 37.5538287\n",
      " 17.6467782   4.2337042  15.79835346 23.20041236  6.70391554  1.39720347\n",
      " 36.05152564  6.73606146  0.28609358  6.58257899  4.33444905 -0.36413118\n",
      " 28.32331065  8.74609839  7.90959605 -0.15046401  5.6370166  14.56266207\n",
      "  7.61184177  6.38335169 10.2479457  14.57371562 -0.24202546 14.05948762\n",
      " 16.15100904 31.41333758 13.6856073   2.39455909 17.94401493 14.81917914\n",
      "  7.9540161   4.35002816 16.58881666 14.98548628 19.54986334 21.16715384\n",
      " 14.81293239 14.24398265 12.74479222  8.23233371  3.62552685  8.65730601\n",
      "  6.2698465  16.01841182  5.35239481  1.12300162  0.33838517 11.20113072\n",
      "  5.14200549 10.57521126  0.46210523  5.10114816 18.67167196  0.54657658\n",
      " -0.28758495 20.27283861 12.96480458  2.10225807]\n"
     ]
    }
   ],
   "source": [
    "y_lr_train_pred = lr.predict(x_train)\n",
    "y_lr_test_pred = lr.predict(x_test)\n",
    "\n",
    "print(y_lr_train_pred[:100])"
   ]
  },
  {
   "cell_type": "code",
   "execution_count": 15,
   "metadata": {},
   "outputs": [
    {
     "name": "stdout",
     "output_type": "stream",
     "text": [
      "[12.7990898  24.2096296   2.0595962  36.49117772  5.33264481 18.98676247\n",
      "  5.47703191  0.07300997 -0.3230541   9.85046661 11.64467353  6.58515576\n",
      "  2.03875958  1.42926005  9.12923416 23.53792474 13.95400005  1.21064871\n",
      "  4.87210434 14.88595699  8.79177575  1.80550372  3.54280055  3.28871525\n",
      "  6.4686931  12.67848499  5.6737148  10.96592111 18.59223746 21.08371424\n",
      "  1.7779735   5.65353366 23.38299727  2.3353746   2.26417777  8.04333367\n",
      "  8.76564513 12.29128602  4.33893106 18.73120654 10.36704703 26.81464926\n",
      " 13.94492457  3.99745715  0.32894622 21.72923114 17.51998545  9.27889466\n",
      "  0.15698212  8.45511087  3.04708344 18.7959866   8.89785413 13.27106883\n",
      "  9.9606046   5.54743785 10.64508123 18.12896787  3.00890449 10.17926588\n",
      " 17.39696802  2.04860337 12.51193237 12.03682292  8.47065061  0.20757855\n",
      " 12.51917274 26.27426886  5.59005726  7.50804166 14.68627874  4.10764869\n",
      " 12.37764216  5.37723248 29.68600678  3.5061512   2.45717179 21.31578954\n",
      "  9.89536929  9.48074849 26.85302936  3.94166858  6.78343468  9.45267563\n",
      " 13.57731526  8.33219672 15.71570955  3.27361463  0.43891546  1.15218832\n",
      " 18.50858812  8.05079089  2.04435734 34.78844209  3.65405476  8.25836804\n",
      "  2.76006626 17.19930364 22.30342939 16.03766208]\n"
     ]
    }
   ],
   "source": [
    "print(y_lr_test_pred[:100])"
   ]
  },
  {
   "cell_type": "markdown",
   "metadata": {},
   "source": [
    "**Model Performance**"
   ]
  },
  {
   "cell_type": "code",
   "execution_count": 16,
   "metadata": {},
   "outputs": [],
   "source": [
    "from sklearn.metrics import mean_squared_error, r2_score\n",
    "\n",
    "lr_train_mse = mean_squared_error(y_train, y_lr_train_pred)\n",
    "lr_train_r2 = r2_score(y_train, y_lr_train_pred)\n",
    "\n",
    "lr_test_mse = mean_squared_error(y_test, y_lr_test_pred)\n",
    "lr_test_r2 = r2_score(y_test, y_lr_test_pred)"
   ]
  },
  {
   "cell_type": "code",
   "execution_count": 17,
   "metadata": {},
   "outputs": [
    {
     "data": {
      "text/html": [
       "<div>\n",
       "<style scoped>\n",
       "    .dataframe tbody tr th:only-of-type {\n",
       "        vertical-align: middle;\n",
       "    }\n",
       "\n",
       "    .dataframe tbody tr th {\n",
       "        vertical-align: top;\n",
       "    }\n",
       "\n",
       "    .dataframe thead th {\n",
       "        text-align: right;\n",
       "    }\n",
       "</style>\n",
       "<table border=\"1\" class=\"dataframe\">\n",
       "  <thead>\n",
       "    <tr style=\"text-align: right;\">\n",
       "      <th></th>\n",
       "      <th>Method</th>\n",
       "      <th>Training MSE</th>\n",
       "      <th>Training R2</th>\n",
       "      <th>Test MSE</th>\n",
       "      <th>Test R2</th>\n",
       "    </tr>\n",
       "  </thead>\n",
       "  <tbody>\n",
       "    <tr>\n",
       "      <th>0</th>\n",
       "      <td>Linear regression</td>\n",
       "      <td>5.650267</td>\n",
       "      <td>0.936988</td>\n",
       "      <td>5.552693</td>\n",
       "      <td>0.937708</td>\n",
       "    </tr>\n",
       "  </tbody>\n",
       "</table>\n",
       "</div>"
      ],
      "text/plain": [
       "              Method Training MSE Training R2  Test MSE   Test R2\n",
       "0  Linear regression     5.650267    0.936988  5.552693  0.937708"
      ]
     },
     "execution_count": 17,
     "metadata": {},
     "output_type": "execute_result"
    }
   ],
   "source": [
    "lr_results = pd.DataFrame([\"Linear regression\", lr_train_mse, lr_train_r2, lr_test_mse, lr_test_r2]).transpose()\n",
    "lr_results.columns = [\"Method\", \"Training MSE\", \"Training R2\", \"Test MSE\", \"Test R2\"]\n",
    "lr_results"
   ]
  },
  {
   "cell_type": "markdown",
   "metadata": {},
   "source": [
    "**Decision tree model**"
   ]
  },
  {
   "cell_type": "code",
   "execution_count": 18,
   "metadata": {},
   "outputs": [],
   "source": [
    "from sklearn.tree import DecisionTreeRegressor\n",
    "from sklearn.model_selection import train_test_split\n",
    "from sklearn.metrics import mean_squared_error, r2_score\n",
    "\n",
    "x_train, x_test, y_train, y_test = train_test_split(x, y, test_size=0.2, random_state=100)\n"
   ]
  },
  {
   "cell_type": "code",
   "execution_count": 19,
   "metadata": {},
   "outputs": [
    {
     "data": {
      "text/plain": [
       "DecisionTreeRegressor()"
      ]
     },
     "execution_count": 19,
     "metadata": {},
     "output_type": "execute_result"
    }
   ],
   "source": [
    "dt = DecisionTreeRegressor()\n",
    "dt.fit(x_test, y_test)"
   ]
  },
  {
   "cell_type": "code",
   "execution_count": 20,
   "metadata": {},
   "outputs": [
    {
     "name": "stdout",
     "output_type": "stream",
     "text": [
      "[ 1.  2. 26. 10.  1. 13. 29. 39. 19. 16.  5.  6.  8.  5. 27. 15. 20.  7.\n",
      "  8. 11. 16. 15. 21. 10. 26. 10.  0. 18. 31. 13.  1. 24. 16.  8. 12. 19.\n",
      " 19. 30.  1.  3.  0. 38. 18.  4. 17. 24.  7.  1. 37.  7.  0.  7.  2.  0.\n",
      " 30.  9.  8.  0.  6. 15.  8.  6. 10. 15.  0. 15. 15. 32. 14.  3. 19. 15.\n",
      "  8.  5. 17. 16. 20. 22.  2. 15. 13.  9.  4.  9.  6. 17.  5.  1.  0. 12.\n",
      "  5. 11.  0.  5. 19.  1.  0. 21. 14.  2.]\n"
     ]
    }
   ],
   "source": [
    "y_dt_train_pred = dt.predict(x_train)\n",
    "y_dt_test_pred = dt.predict(x_test)\n",
    "print(y_dt_train_pred[:100])"
   ]
  },
  {
   "cell_type": "code",
   "execution_count": 21,
   "metadata": {},
   "outputs": [
    {
     "name": "stdout",
     "output_type": "stream",
     "text": [
      "[ 0. 25.  2. 38.  6. 20.  6.  0.  0. 10. 12.  7.  2.  1. 10. 24. 14.  1.\n",
      "  5. 16.  9.  2.  4.  3.  7. 13.  6. 11. 19. 22.  2.  6. 24.  0.  2.  8.\n",
      "  9. 13.  4. 19. 11. 27. 14.  4.  0. 23. 18.  9.  0.  9.  3. 19.  9. 14.\n",
      " 10.  6. 11. 19.  3. 11. 17.  2. 13. 13.  9.  0. 13. 27.  6.  8. 15.  4.\n",
      " 13.  6. 31.  3.  2. 22. 10. 10. 28.  4.  7. 10. 14.  9. 16.  3.  0.  1.\n",
      " 19.  8.  2. 36.  4.  9.  1. 18. 23. 16.]\n"
     ]
    }
   ],
   "source": [
    "print(y_dt_test_pred[:100])"
   ]
  },
  {
   "cell_type": "code",
   "execution_count": 22,
   "metadata": {},
   "outputs": [],
   "source": [
    "\n",
    "dt_test_mse = mean_squared_error(y_test, y_dt_test_pred)\n",
    "dt_test_r2 = r2_score(y_test, y_dt_test_pred)\n",
    "dt_train_mse = mean_squared_error(y_train, y_dt_train_pred)\n",
    "dt_train_r2 = r2_score(y_train, y_dt_train_pred)"
   ]
  },
  {
   "cell_type": "code",
   "execution_count": 23,
   "metadata": {},
   "outputs": [
    {
     "data": {
      "text/html": [
       "<div>\n",
       "<style scoped>\n",
       "    .dataframe tbody tr th:only-of-type {\n",
       "        vertical-align: middle;\n",
       "    }\n",
       "\n",
       "    .dataframe tbody tr th {\n",
       "        vertical-align: top;\n",
       "    }\n",
       "\n",
       "    .dataframe thead th {\n",
       "        text-align: right;\n",
       "    }\n",
       "</style>\n",
       "<table border=\"1\" class=\"dataframe\">\n",
       "  <thead>\n",
       "    <tr style=\"text-align: right;\">\n",
       "      <th></th>\n",
       "      <th>Method</th>\n",
       "      <th>Training MSE</th>\n",
       "      <th>Training R2</th>\n",
       "      <th>Test MSE</th>\n",
       "      <th>Test R2</th>\n",
       "    </tr>\n",
       "  </thead>\n",
       "  <tbody>\n",
       "    <tr>\n",
       "      <th>0</th>\n",
       "      <td>Decision tree</td>\n",
       "      <td>0.330528</td>\n",
       "      <td>0.996314</td>\n",
       "      <td>0.000077</td>\n",
       "      <td>0.999999</td>\n",
       "    </tr>\n",
       "  </tbody>\n",
       "</table>\n",
       "</div>"
      ],
      "text/plain": [
       "          Method Training MSE Training R2  Test MSE   Test R2\n",
       "0  Decision tree     0.330528    0.996314  0.000077  0.999999"
      ]
     },
     "execution_count": 23,
     "metadata": {},
     "output_type": "execute_result"
    }
   ],
   "source": [
    "dt_results = pd.DataFrame([\"Decision tree\", dt_train_mse, dt_train_r2, dt_test_mse, dt_test_r2]).transpose()\n",
    "dt_results.columns = [\"Method\", \"Training MSE\", \"Training R2\", \"Test MSE\", \"Test R2\"]\n",
    "dt_results"
   ]
  },
  {
   "cell_type": "markdown",
   "metadata": {},
   "source": [
    "**Random forest model**"
   ]
  },
  {
   "cell_type": "code",
   "execution_count": 24,
   "metadata": {},
   "outputs": [
    {
     "data": {
      "text/plain": [
       "RandomForestRegressor(max_depth=2, random_state=100)"
      ]
     },
     "execution_count": 24,
     "metadata": {},
     "output_type": "execute_result"
    }
   ],
   "source": [
    "from sklearn.ensemble import RandomForestRegressor\n",
    "\n",
    "rf = RandomForestRegressor(max_depth=2, random_state=100)\n",
    "rf.fit(x_train, y_train)"
   ]
  },
  {
   "cell_type": "code",
   "execution_count": 25,
   "metadata": {},
   "outputs": [
    {
     "name": "stdout",
     "output_type": "stream",
     "text": [
      "[10.48678732 10.48678732 25.38123754  4.44165625  4.44165625 10.48678732\n",
      " 25.38123754 25.38123754 25.38123754 10.48678732  4.44165625  4.44165625\n",
      " 10.48678732 10.63172039 25.38123754 10.48678732 11.08236479  4.44165625\n",
      " 10.48678732 10.48678732 25.38123754 25.38123754 10.48678732 10.48678732\n",
      " 25.38123754 10.48678732 11.08236479 25.38123754 25.38123754 11.08236479\n",
      "  4.44165625 10.48678732 25.38123754 11.08236479 10.48678732 25.38123754\n",
      " 11.08236479 25.38123754 10.48678732 11.08236479  4.44165625 25.38123754\n",
      " 10.48678732  4.44165625 11.08236479 25.38123754 10.48678732  4.44165625\n",
      " 25.38123754 10.48678732  4.44165625 10.48678732 11.08236479 10.48678732\n",
      " 25.38123754 10.48678732  4.44165625 10.48678732 10.48678732 15.02184121\n",
      " 11.08236479  4.44165625  4.44165625 10.48678732 10.48678732 11.08236479\n",
      " 11.08236479 25.38123754 10.48678732 10.48678732 11.08236479 10.48678732\n",
      "  4.44165625 10.63172039 25.38123754 11.08236479 10.48678732 25.38123754\n",
      " 11.08236479 15.02184121  4.44165625 11.08236479 10.48678732 10.48678732\n",
      "  4.44165625 25.38123754  4.44165625  4.44165625  4.44165625 10.48678732\n",
      "  4.44165625 10.48678732  4.44165625  4.44165625 10.48678732 10.48678732\n",
      " 10.48678732 25.38123754 11.08236479  4.44165625]\n"
     ]
    }
   ],
   "source": [
    "y_rf_train_pred = rf.predict(x_train)\n",
    "y_rf_test_pred = rf.predict(x_test)\n",
    "print(y_rf_train_pred[:100])"
   ]
  },
  {
   "cell_type": "code",
   "execution_count": 26,
   "metadata": {},
   "outputs": [
    {
     "name": "stdout",
     "output_type": "stream",
     "text": [
      "[11.08236479 15.02184121  4.44165625 25.38123754 10.63172039 25.38123754\n",
      " 10.48678732 10.48678732  4.44165625  4.44165625  4.44165625 11.08236479\n",
      " 10.48678732  4.44165625 11.08236479 10.48678732 10.48678732  4.44165625\n",
      " 10.48678732 11.08236479 10.48678732 10.48678732 10.48678732  4.44165625\n",
      " 10.48678732 10.48678732 10.48678732  4.44165625 10.48678732 25.38123754\n",
      " 10.48678732 10.48678732 10.48678732  4.44165625  4.44165625  4.44165625\n",
      " 10.48678732 11.08236479 10.48678732 10.48678732 10.48678732 25.38123754\n",
      " 10.48678732 10.48678732  4.44165625 25.38123754 25.38123754  4.44165625\n",
      "  4.44165625 11.08236479  4.44165625 10.48678732  4.44165625 11.08236479\n",
      " 10.48678732 10.48678732 10.48678732 25.38123754  4.44165625 10.48678732\n",
      " 10.48678732  4.44165625 10.48678732 11.08236479 11.08236479  4.44165625\n",
      " 10.48678732 25.38123754 11.08236479 10.63172039 10.48678732 10.48678732\n",
      " 11.08236479 11.08236479 25.38123754  4.44165625  4.44165625 10.48678732\n",
      "  4.44165625 10.48678732 25.38123754 10.48678732  4.44165625 11.08236479\n",
      " 10.48678732 11.08236479 10.48678732  4.44165625  4.44165625  4.44165625\n",
      " 10.48678732  4.44165625  4.44165625 25.38123754 10.48678732 11.08236479\n",
      " 10.48678732 25.38123754 10.48678732 11.08236479]\n"
     ]
    }
   ],
   "source": [
    "print(y_rf_test_pred[:100])"
   ]
  },
  {
   "cell_type": "code",
   "execution_count": 27,
   "metadata": {},
   "outputs": [],
   "source": [
    "from sklearn.metrics import mean_squared_error, r2_score\n",
    "\n",
    "rf_train_mse = mean_squared_error(y_train, y_rf_train_pred)\n",
    "rf_train_r2 = r2_score(y_train, y_rf_train_pred)\n",
    "\n",
    "rf_test_mse = mean_squared_error(y_test, y_rf_test_pred)\n",
    "rf_test_r2 = r2_score(y_test, y_rf_test_pred)"
   ]
  },
  {
   "cell_type": "code",
   "execution_count": 28,
   "metadata": {},
   "outputs": [
    {
     "data": {
      "text/html": [
       "<div>\n",
       "<style scoped>\n",
       "    .dataframe tbody tr th:only-of-type {\n",
       "        vertical-align: middle;\n",
       "    }\n",
       "\n",
       "    .dataframe tbody tr th {\n",
       "        vertical-align: top;\n",
       "    }\n",
       "\n",
       "    .dataframe thead th {\n",
       "        text-align: right;\n",
       "    }\n",
       "</style>\n",
       "<table border=\"1\" class=\"dataframe\">\n",
       "  <thead>\n",
       "    <tr style=\"text-align: right;\">\n",
       "      <th></th>\n",
       "      <th>Method</th>\n",
       "      <th>Training MSE</th>\n",
       "      <th>Training R2</th>\n",
       "      <th>Test MSE</th>\n",
       "      <th>Test R2</th>\n",
       "    </tr>\n",
       "  </thead>\n",
       "  <tbody>\n",
       "    <tr>\n",
       "      <th>0</th>\n",
       "      <td>Random forest</td>\n",
       "      <td>34.764468</td>\n",
       "      <td>0.612304</td>\n",
       "      <td>34.672684</td>\n",
       "      <td>0.611033</td>\n",
       "    </tr>\n",
       "  </tbody>\n",
       "</table>\n",
       "</div>"
      ],
      "text/plain": [
       "          Method Training MSE Training R2   Test MSE   Test R2\n",
       "0  Random forest    34.764468    0.612304  34.672684  0.611033"
      ]
     },
     "execution_count": 28,
     "metadata": {},
     "output_type": "execute_result"
    }
   ],
   "source": [
    "rf_results = pd.DataFrame([\"Random forest\", rf_train_mse, rf_train_r2, rf_test_mse, rf_test_r2]).transpose()\n",
    "rf_results.columns = [\"Method\", \"Training MSE\", \"Training R2\", \"Test MSE\", \"Test R2\"]\n",
    "rf_results"
   ]
  },
  {
   "cell_type": "markdown",
   "metadata": {},
   "source": [
    "**Model comparison**"
   ]
  },
  {
   "cell_type": "code",
   "execution_count": 29,
   "metadata": {},
   "outputs": [
    {
     "data": {
      "text/html": [
       "<div>\n",
       "<style scoped>\n",
       "    .dataframe tbody tr th:only-of-type {\n",
       "        vertical-align: middle;\n",
       "    }\n",
       "\n",
       "    .dataframe tbody tr th {\n",
       "        vertical-align: top;\n",
       "    }\n",
       "\n",
       "    .dataframe thead th {\n",
       "        text-align: right;\n",
       "    }\n",
       "</style>\n",
       "<table border=\"1\" class=\"dataframe\">\n",
       "  <thead>\n",
       "    <tr style=\"text-align: right;\">\n",
       "      <th></th>\n",
       "      <th>Method</th>\n",
       "      <th>Training MSE</th>\n",
       "      <th>Training R2</th>\n",
       "      <th>Test MSE</th>\n",
       "      <th>Test R2</th>\n",
       "    </tr>\n",
       "  </thead>\n",
       "  <tbody>\n",
       "    <tr>\n",
       "      <th>0</th>\n",
       "      <td>Linear regression</td>\n",
       "      <td>5.650267</td>\n",
       "      <td>0.936988</td>\n",
       "      <td>5.552693</td>\n",
       "      <td>0.937708</td>\n",
       "    </tr>\n",
       "    <tr>\n",
       "      <th>1</th>\n",
       "      <td>Decision tree</td>\n",
       "      <td>0.330528</td>\n",
       "      <td>0.996314</td>\n",
       "      <td>0.000077</td>\n",
       "      <td>0.999999</td>\n",
       "    </tr>\n",
       "    <tr>\n",
       "      <th>2</th>\n",
       "      <td>Random forest</td>\n",
       "      <td>34.764468</td>\n",
       "      <td>0.612304</td>\n",
       "      <td>34.672684</td>\n",
       "      <td>0.611033</td>\n",
       "    </tr>\n",
       "  </tbody>\n",
       "</table>\n",
       "</div>"
      ],
      "text/plain": [
       "              Method Training MSE Training R2   Test MSE   Test R2\n",
       "0  Linear regression     5.650267    0.936988   5.552693  0.937708\n",
       "1      Decision tree     0.330528    0.996314   0.000077  0.999999\n",
       "2      Random forest    34.764468    0.612304  34.672684  0.611033"
      ]
     },
     "execution_count": 29,
     "metadata": {},
     "output_type": "execute_result"
    }
   ],
   "source": [
    "df_models = pd.concat([lr_results, dt_results, rf_results], axis=0).reset_index(drop=True)\n",
    "df_models"
   ]
  },
  {
   "cell_type": "code",
   "execution_count": 35,
   "metadata": {},
   "outputs": [
    {
     "data": {
      "image/png": "[encoded data removed]",
      "text/plain": [
       "<Figure size 640x480 with 1 Axes>"
      ]
     },
     "metadata": {},
     "output_type": "display_data"
    }
   ],
   "source": [
    "import matplotlib.pyplot as plt\n",
    "\n",
    "# make predictions for each model on the testing data\n",
    "y_pred_dt = dt.predict(x_test)\n",
    "y_pred_rf = rf.predict(x_test)\n",
    "y_pred_lr = lr.predict(x_test)\n",
    "\n",
    "# plot the predicted values against the true values for each model\n",
    "plt.scatter(y_test, y_pred_dt, label=\"Decision Tree\")\n",
    "plt.scatter(y_test, y_pred_rf, label=\"Random Forest\")\n",
    "plt.scatter(y_test, y_pred_lr, label=\"Linear Regression\", alpha = 0.5)\n",
    "\n",
    "# add a diagonal line to represent perfect predictions\n",
    "plt.plot([0, 1], [0, 1], '--k', transform=plt.gca().transAxes)\n",
    "\n",
    "plt.xlabel(\"Availability\")\n",
    "plt.ylabel(\"Predictions\")\n",
    "plt.legend()\n",
    "\n",
    "plt.show()\n"
   ]
  },
  {
   "cell_type": "code",
   "execution_count": 33,
   "metadata": {},
   "outputs": [
    {
     "data": {
      "image/png": "[encoded data removed]",
      "text/plain": [
       "<Figure size 640x480 with 1 Axes>"
      ]
     },
     "metadata": {},
     "output_type": "display_data"
    }
   ],
   "source": [
    "import seaborn as sns\n",
    "import matplotlib.pyplot as plt\n",
    "\n",
    "model_names = ['Linear Regression', 'Random Forest', 'Decision Tree']\n",
    "models = [lr, rf, dt]\n",
    "colors = ['blue', 'green', 'orange']\n",
    "\n",
    "for i, model in enumerate(models):\n",
    "    sns.scatterplot(x=y_test, y=model.predict(x_test), color=colors[i], alpha=0.5)\n",
    "\n",
    "plt.title('Comparison of Model Predictions')\n",
    "plt.xlabel('Availability')\n",
    "plt.ylabel('Prediction')\n",
    "plt.legend(model_names)\n",
    "plt.show()\n"
   ]
  }
 ],
 "metadata": {
  "kernelspec": {
   "display_name": "Python 3.9.13 ('base')",
   "language": "python",
   "name": "python3"
  },
  "language_info": {
   "codemirror_mode": {
    "name": "ipython",
    "version": 3
   },
   "file_extension": ".py",
   "mimetype": "text/x-python",
   "name": "python",
   "nbconvert_exporter": "python",
   "pygments_lexer": "ipython3",
   "version": "3.10.9"
  },
  "orig_nbformat": 4,
  "vscode": {
   "interpreter": {
    "hash": "3418417383af331fcbc8316060ae8874514fff1df7fef283aa38a0cc727c6ead"
   }
  }
 },
 "nbformat": 4,
 "nbformat_minor": 2
}
