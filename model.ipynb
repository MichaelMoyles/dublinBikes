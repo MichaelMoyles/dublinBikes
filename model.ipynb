{
 "cells": [
  {
   "attachments": {},
   "cell_type": "markdown",
   "metadata": {},
   "source": [
    "# Building Model For Predicting Bike Availability"
   ]
  },
  {
   "attachments": {},
   "cell_type": "markdown",
   "metadata": {},
   "source": [
    "# Loading data and merging into one data frame"
   ]
  },
  {
   "cell_type": "code",
   "execution_count": 68,
   "metadata": {},
   "outputs": [
    {
     "data": {
      "text/html": [
       "<div>\n",
       "<style scoped>\n",
       "    .dataframe tbody tr th:only-of-type {\n",
       "        vertical-align: middle;\n",
       "    }\n",
       "\n",
       "    .dataframe tbody tr th {\n",
       "        vertical-align: top;\n",
       "    }\n",
       "\n",
       "    .dataframe thead th {\n",
       "        text-align: right;\n",
       "    }\n",
       "</style>\n",
       "<table border=\"1\" class=\"dataframe\">\n",
       "  <thead>\n",
       "    <tr style=\"text-align: right;\">\n",
       "      <th></th>\n",
       "      <th>number</th>\n",
       "      <th>available_bikes</th>\n",
       "      <th>available_bike_stands</th>\n",
       "      <th>status</th>\n",
       "      <th>last_update</th>\n",
       "      <th>timestamp</th>\n",
       "      <th>weather_desc</th>\n",
       "      <th>temp</th>\n",
       "      <th>visibility</th>\n",
       "      <th>wind_speed</th>\n",
       "      <th>wind_deg</th>\n",
       "      <th>bike_stands</th>\n",
       "    </tr>\n",
       "  </thead>\n",
       "  <tbody>\n",
       "    <tr>\n",
       "      <th>0</th>\n",
       "      <td>42</td>\n",
       "      <td>30</td>\n",
       "      <td>0</td>\n",
       "      <td>OPEN</td>\n",
       "      <td>1677185535000</td>\n",
       "      <td>1677185702</td>\n",
       "      <td>NaN</td>\n",
       "      <td>NaN</td>\n",
       "      <td>NaN</td>\n",
       "      <td>NaN</td>\n",
       "      <td>NaN</td>\n",
       "      <td>30.0</td>\n",
       "    </tr>\n",
       "    <tr>\n",
       "      <th>1</th>\n",
       "      <td>30</td>\n",
       "      <td>4</td>\n",
       "      <td>16</td>\n",
       "      <td>OPEN</td>\n",
       "      <td>1677185621000</td>\n",
       "      <td>1677185702</td>\n",
       "      <td>NaN</td>\n",
       "      <td>NaN</td>\n",
       "      <td>NaN</td>\n",
       "      <td>NaN</td>\n",
       "      <td>NaN</td>\n",
       "      <td>20.0</td>\n",
       "    </tr>\n",
       "    <tr>\n",
       "      <th>2</th>\n",
       "      <td>54</td>\n",
       "      <td>5</td>\n",
       "      <td>28</td>\n",
       "      <td>OPEN</td>\n",
       "      <td>1677185522000</td>\n",
       "      <td>1677185702</td>\n",
       "      <td>NaN</td>\n",
       "      <td>NaN</td>\n",
       "      <td>NaN</td>\n",
       "      <td>NaN</td>\n",
       "      <td>NaN</td>\n",
       "      <td>33.0</td>\n",
       "    </tr>\n",
       "    <tr>\n",
       "      <th>3</th>\n",
       "      <td>108</td>\n",
       "      <td>13</td>\n",
       "      <td>22</td>\n",
       "      <td>OPEN</td>\n",
       "      <td>1677185161000</td>\n",
       "      <td>1677185702</td>\n",
       "      <td>NaN</td>\n",
       "      <td>NaN</td>\n",
       "      <td>NaN</td>\n",
       "      <td>NaN</td>\n",
       "      <td>NaN</td>\n",
       "      <td>35.0</td>\n",
       "    </tr>\n",
       "    <tr>\n",
       "      <th>4</th>\n",
       "      <td>20</td>\n",
       "      <td>6</td>\n",
       "      <td>24</td>\n",
       "      <td>OPEN</td>\n",
       "      <td>1677185529000</td>\n",
       "      <td>1677185702</td>\n",
       "      <td>NaN</td>\n",
       "      <td>NaN</td>\n",
       "      <td>NaN</td>\n",
       "      <td>NaN</td>\n",
       "      <td>NaN</td>\n",
       "      <td>30.0</td>\n",
       "    </tr>\n",
       "  </tbody>\n",
       "</table>\n",
       "</div>"
      ],
      "text/plain": [
       "   number  available_bikes  available_bike_stands status    last_update  \\\n",
       "0      42               30                      0   OPEN  1677185535000   \n",
       "1      30                4                     16   OPEN  1677185621000   \n",
       "2      54                5                     28   OPEN  1677185522000   \n",
       "3     108               13                     22   OPEN  1677185161000   \n",
       "4      20                6                     24   OPEN  1677185529000   \n",
       "\n",
       "    timestamp weather_desc  temp  visibility  wind_speed  wind_deg  \\\n",
       "0  1677185702          NaN   NaN         NaN         NaN       NaN   \n",
       "1  1677185702          NaN   NaN         NaN         NaN       NaN   \n",
       "2  1677185702          NaN   NaN         NaN         NaN       NaN   \n",
       "3  1677185702          NaN   NaN         NaN         NaN       NaN   \n",
       "4  1677185702          NaN   NaN         NaN         NaN       NaN   \n",
       "\n",
       "   bike_stands  \n",
       "0         30.0  \n",
       "1         20.0  \n",
       "2         33.0  \n",
       "3         35.0  \n",
       "4         30.0  "
      ]
     },
     "execution_count": 68,
     "metadata": {},
     "output_type": "execute_result"
    }
   ],
   "source": [
    "import pandas as pd\n",
    "import numpy as np\n",
    "\n",
    "stations = pd.read_csv(\"static/csv/stations.csv\")\n",
    "availability = pd.read_csv(\"static/csv/availability.csv\")\n",
    "weather = pd.read_csv(\"static/csv/current_weather.csv\")\n",
    "\n",
    "df = availability.merge(weather[[\"weather_desc\", \"temp\", \"visibility\", \"wind_speed\", \"wind_deg\", \"timestamp\"]], on = [\"timestamp\"], how = \"left\")\n",
    "df = df.merge(stations[[\"bike_stands\", \"number\"]], on = [\"number\"], how = \"left\")\n",
    "df.head()"
   ]
  },
  {
   "attachments": {},
   "cell_type": "markdown",
   "metadata": {},
   "source": [
    "# Cleaning data frame"
   ]
  },
  {
   "attachments": {},
   "cell_type": "markdown",
   "metadata": {},
   "source": [
    "## Columns - dropping and renaming"
   ]
  },
  {
   "cell_type": "code",
   "execution_count": 69,
   "metadata": {},
   "outputs": [
    {
     "data": {
      "text/html": [
       "<div>\n",
       "<style scoped>\n",
       "    .dataframe tbody tr th:only-of-type {\n",
       "        vertical-align: middle;\n",
       "    }\n",
       "\n",
       "    .dataframe tbody tr th {\n",
       "        vertical-align: top;\n",
       "    }\n",
       "\n",
       "    .dataframe thead th {\n",
       "        text-align: right;\n",
       "    }\n",
       "</style>\n",
       "<table border=\"1\" class=\"dataframe\">\n",
       "  <thead>\n",
       "    <tr style=\"text-align: right;\">\n",
       "      <th></th>\n",
       "      <th>station_num</th>\n",
       "      <th>available_bikes</th>\n",
       "      <th>available_stands</th>\n",
       "      <th>timestamp</th>\n",
       "      <th>weather_desc</th>\n",
       "      <th>temp</th>\n",
       "      <th>visibility</th>\n",
       "      <th>wind_speed</th>\n",
       "      <th>wind_deg</th>\n",
       "      <th>total_stands</th>\n",
       "    </tr>\n",
       "  </thead>\n",
       "  <tbody>\n",
       "    <tr>\n",
       "      <th>0</th>\n",
       "      <td>42</td>\n",
       "      <td>30</td>\n",
       "      <td>0</td>\n",
       "      <td>1677185702</td>\n",
       "      <td>NaN</td>\n",
       "      <td>NaN</td>\n",
       "      <td>NaN</td>\n",
       "      <td>NaN</td>\n",
       "      <td>NaN</td>\n",
       "      <td>30.0</td>\n",
       "    </tr>\n",
       "    <tr>\n",
       "      <th>1</th>\n",
       "      <td>30</td>\n",
       "      <td>4</td>\n",
       "      <td>16</td>\n",
       "      <td>1677185702</td>\n",
       "      <td>NaN</td>\n",
       "      <td>NaN</td>\n",
       "      <td>NaN</td>\n",
       "      <td>NaN</td>\n",
       "      <td>NaN</td>\n",
       "      <td>20.0</td>\n",
       "    </tr>\n",
       "    <tr>\n",
       "      <th>2</th>\n",
       "      <td>54</td>\n",
       "      <td>5</td>\n",
       "      <td>28</td>\n",
       "      <td>1677185702</td>\n",
       "      <td>NaN</td>\n",
       "      <td>NaN</td>\n",
       "      <td>NaN</td>\n",
       "      <td>NaN</td>\n",
       "      <td>NaN</td>\n",
       "      <td>33.0</td>\n",
       "    </tr>\n",
       "    <tr>\n",
       "      <th>3</th>\n",
       "      <td>108</td>\n",
       "      <td>13</td>\n",
       "      <td>22</td>\n",
       "      <td>1677185702</td>\n",
       "      <td>NaN</td>\n",
       "      <td>NaN</td>\n",
       "      <td>NaN</td>\n",
       "      <td>NaN</td>\n",
       "      <td>NaN</td>\n",
       "      <td>35.0</td>\n",
       "    </tr>\n",
       "    <tr>\n",
       "      <th>4</th>\n",
       "      <td>20</td>\n",
       "      <td>6</td>\n",
       "      <td>24</td>\n",
       "      <td>1677185702</td>\n",
       "      <td>NaN</td>\n",
       "      <td>NaN</td>\n",
       "      <td>NaN</td>\n",
       "      <td>NaN</td>\n",
       "      <td>NaN</td>\n",
       "      <td>30.0</td>\n",
       "    </tr>\n",
       "  </tbody>\n",
       "</table>\n",
       "</div>"
      ],
      "text/plain": [
       "   station_num  available_bikes  available_stands   timestamp weather_desc  \\\n",
       "0           42               30                 0  1677185702          NaN   \n",
       "1           30                4                16  1677185702          NaN   \n",
       "2           54                5                28  1677185702          NaN   \n",
       "3          108               13                22  1677185702          NaN   \n",
       "4           20                6                24  1677185702          NaN   \n",
       "\n",
       "   temp  visibility  wind_speed  wind_deg  total_stands  \n",
       "0   NaN         NaN         NaN       NaN          30.0  \n",
       "1   NaN         NaN         NaN       NaN          20.0  \n",
       "2   NaN         NaN         NaN       NaN          33.0  \n",
       "3   NaN         NaN         NaN       NaN          35.0  \n",
       "4   NaN         NaN         NaN       NaN          30.0  "
      ]
     },
     "execution_count": 69,
     "metadata": {},
     "output_type": "execute_result"
    }
   ],
   "source": [
    "df.drop([\"status\", \"last_update\"], axis = 1, inplace = True)\n",
    "df.rename(columns = {\"bike_stands\": \"total_stands\", \"available_bike_stands\": \"available_stands\", \"number\": \"station_num\"}, inplace = True)\n",
    "df.head()"
   ]
  },
  {
   "attachments": {},
   "cell_type": "markdown",
   "metadata": {},
   "source": [
    "## Rows - dropping rows with no weather data"
   ]
  },
  {
   "cell_type": "code",
   "execution_count": 70,
   "metadata": {},
   "outputs": [
    {
     "data": {
      "text/html": [
       "<div>\n",
       "<style scoped>\n",
       "    .dataframe tbody tr th:only-of-type {\n",
       "        vertical-align: middle;\n",
       "    }\n",
       "\n",
       "    .dataframe tbody tr th {\n",
       "        vertical-align: top;\n",
       "    }\n",
       "\n",
       "    .dataframe thead th {\n",
       "        text-align: right;\n",
       "    }\n",
       "</style>\n",
       "<table border=\"1\" class=\"dataframe\">\n",
       "  <thead>\n",
       "    <tr style=\"text-align: right;\">\n",
       "      <th></th>\n",
       "      <th>station_num</th>\n",
       "      <th>available_bikes</th>\n",
       "      <th>available_stands</th>\n",
       "      <th>timestamp</th>\n",
       "      <th>weather_desc</th>\n",
       "      <th>temp</th>\n",
       "      <th>visibility</th>\n",
       "      <th>wind_speed</th>\n",
       "      <th>wind_deg</th>\n",
       "      <th>total_stands</th>\n",
       "    </tr>\n",
       "  </thead>\n",
       "  <tbody>\n",
       "    <tr>\n",
       "      <th>336580</th>\n",
       "      <td>42</td>\n",
       "      <td>16</td>\n",
       "      <td>14</td>\n",
       "      <td>1678113903</td>\n",
       "      <td>light rain</td>\n",
       "      <td>278.81</td>\n",
       "      <td>10000.0</td>\n",
       "      <td>3.09</td>\n",
       "      <td>290.0</td>\n",
       "      <td>30.0</td>\n",
       "    </tr>\n",
       "    <tr>\n",
       "      <th>336581</th>\n",
       "      <td>30</td>\n",
       "      <td>0</td>\n",
       "      <td>20</td>\n",
       "      <td>1678113903</td>\n",
       "      <td>light rain</td>\n",
       "      <td>278.81</td>\n",
       "      <td>10000.0</td>\n",
       "      <td>3.09</td>\n",
       "      <td>290.0</td>\n",
       "      <td>20.0</td>\n",
       "    </tr>\n",
       "    <tr>\n",
       "      <th>336582</th>\n",
       "      <td>54</td>\n",
       "      <td>17</td>\n",
       "      <td>16</td>\n",
       "      <td>1678113903</td>\n",
       "      <td>light rain</td>\n",
       "      <td>278.81</td>\n",
       "      <td>10000.0</td>\n",
       "      <td>3.09</td>\n",
       "      <td>290.0</td>\n",
       "      <td>33.0</td>\n",
       "    </tr>\n",
       "    <tr>\n",
       "      <th>336583</th>\n",
       "      <td>108</td>\n",
       "      <td>14</td>\n",
       "      <td>21</td>\n",
       "      <td>1678113903</td>\n",
       "      <td>light rain</td>\n",
       "      <td>278.81</td>\n",
       "      <td>10000.0</td>\n",
       "      <td>3.09</td>\n",
       "      <td>290.0</td>\n",
       "      <td>35.0</td>\n",
       "    </tr>\n",
       "    <tr>\n",
       "      <th>336584</th>\n",
       "      <td>20</td>\n",
       "      <td>22</td>\n",
       "      <td>8</td>\n",
       "      <td>1678113903</td>\n",
       "      <td>light rain</td>\n",
       "      <td>278.81</td>\n",
       "      <td>10000.0</td>\n",
       "      <td>3.09</td>\n",
       "      <td>290.0</td>\n",
       "      <td>30.0</td>\n",
       "    </tr>\n",
       "  </tbody>\n",
       "</table>\n",
       "</div>"
      ],
      "text/plain": [
       "        station_num  available_bikes  available_stands   timestamp  \\\n",
       "336580           42               16                14  1678113903   \n",
       "336581           30                0                20  1678113903   \n",
       "336582           54               17                16  1678113903   \n",
       "336583          108               14                21  1678113903   \n",
       "336584           20               22                 8  1678113903   \n",
       "\n",
       "       weather_desc    temp  visibility  wind_speed  wind_deg  total_stands  \n",
       "336580   light rain  278.81     10000.0        3.09     290.0          30.0  \n",
       "336581   light rain  278.81     10000.0        3.09     290.0          20.0  \n",
       "336582   light rain  278.81     10000.0        3.09     290.0          33.0  \n",
       "336583   light rain  278.81     10000.0        3.09     290.0          35.0  \n",
       "336584   light rain  278.81     10000.0        3.09     290.0          30.0  "
      ]
     },
     "execution_count": 70,
     "metadata": {},
     "output_type": "execute_result"
    }
   ],
   "source": [
    "df.dropna(inplace = True)\n",
    "df.head()"
   ]
  },
  {
   "attachments": {},
   "cell_type": "markdown",
   "metadata": {},
   "source": [
    "## Date and Time - changing Unix timestamp"
   ]
  },
  {
   "cell_type": "code",
   "execution_count": 71,
   "metadata": {},
   "outputs": [
    {
     "data": {
      "text/html": [
       "<div>\n",
       "<style scoped>\n",
       "    .dataframe tbody tr th:only-of-type {\n",
       "        vertical-align: middle;\n",
       "    }\n",
       "\n",
       "    .dataframe tbody tr th {\n",
       "        vertical-align: top;\n",
       "    }\n",
       "\n",
       "    .dataframe thead th {\n",
       "        text-align: right;\n",
       "    }\n",
       "</style>\n",
       "<table border=\"1\" class=\"dataframe\">\n",
       "  <thead>\n",
       "    <tr style=\"text-align: right;\">\n",
       "      <th></th>\n",
       "      <th>station_num</th>\n",
       "      <th>available_bikes</th>\n",
       "      <th>available_stands</th>\n",
       "      <th>weather_desc</th>\n",
       "      <th>temp</th>\n",
       "      <th>visibility</th>\n",
       "      <th>wind_speed</th>\n",
       "      <th>wind_deg</th>\n",
       "      <th>total_stands</th>\n",
       "      <th>month</th>\n",
       "      <th>day</th>\n",
       "      <th>hour</th>\n",
       "    </tr>\n",
       "  </thead>\n",
       "  <tbody>\n",
       "    <tr>\n",
       "      <th>336580</th>\n",
       "      <td>42</td>\n",
       "      <td>16</td>\n",
       "      <td>14</td>\n",
       "      <td>light rain</td>\n",
       "      <td>278.81</td>\n",
       "      <td>10000.0</td>\n",
       "      <td>3.09</td>\n",
       "      <td>290.0</td>\n",
       "      <td>30.0</td>\n",
       "      <td>3</td>\n",
       "      <td>0</td>\n",
       "      <td>14</td>\n",
       "    </tr>\n",
       "    <tr>\n",
       "      <th>336581</th>\n",
       "      <td>30</td>\n",
       "      <td>0</td>\n",
       "      <td>20</td>\n",
       "      <td>light rain</td>\n",
       "      <td>278.81</td>\n",
       "      <td>10000.0</td>\n",
       "      <td>3.09</td>\n",
       "      <td>290.0</td>\n",
       "      <td>20.0</td>\n",
       "      <td>3</td>\n",
       "      <td>0</td>\n",
       "      <td>14</td>\n",
       "    </tr>\n",
       "    <tr>\n",
       "      <th>336582</th>\n",
       "      <td>54</td>\n",
       "      <td>17</td>\n",
       "      <td>16</td>\n",
       "      <td>light rain</td>\n",
       "      <td>278.81</td>\n",
       "      <td>10000.0</td>\n",
       "      <td>3.09</td>\n",
       "      <td>290.0</td>\n",
       "      <td>33.0</td>\n",
       "      <td>3</td>\n",
       "      <td>0</td>\n",
       "      <td>14</td>\n",
       "    </tr>\n",
       "    <tr>\n",
       "      <th>336583</th>\n",
       "      <td>108</td>\n",
       "      <td>14</td>\n",
       "      <td>21</td>\n",
       "      <td>light rain</td>\n",
       "      <td>278.81</td>\n",
       "      <td>10000.0</td>\n",
       "      <td>3.09</td>\n",
       "      <td>290.0</td>\n",
       "      <td>35.0</td>\n",
       "      <td>3</td>\n",
       "      <td>0</td>\n",
       "      <td>14</td>\n",
       "    </tr>\n",
       "    <tr>\n",
       "      <th>336584</th>\n",
       "      <td>20</td>\n",
       "      <td>22</td>\n",
       "      <td>8</td>\n",
       "      <td>light rain</td>\n",
       "      <td>278.81</td>\n",
       "      <td>10000.0</td>\n",
       "      <td>3.09</td>\n",
       "      <td>290.0</td>\n",
       "      <td>30.0</td>\n",
       "      <td>3</td>\n",
       "      <td>0</td>\n",
       "      <td>14</td>\n",
       "    </tr>\n",
       "  </tbody>\n",
       "</table>\n",
       "</div>"
      ],
      "text/plain": [
       "        station_num  available_bikes  available_stands weather_desc    temp  \\\n",
       "336580           42               16                14   light rain  278.81   \n",
       "336581           30                0                20   light rain  278.81   \n",
       "336582           54               17                16   light rain  278.81   \n",
       "336583          108               14                21   light rain  278.81   \n",
       "336584           20               22                 8   light rain  278.81   \n",
       "\n",
       "        visibility  wind_speed  wind_deg  total_stands  month  day  hour  \n",
       "336580     10000.0        3.09     290.0          30.0      3    0    14  \n",
       "336581     10000.0        3.09     290.0          20.0      3    0    14  \n",
       "336582     10000.0        3.09     290.0          33.0      3    0    14  \n",
       "336583     10000.0        3.09     290.0          35.0      3    0    14  \n",
       "336584     10000.0        3.09     290.0          30.0      3    0    14  "
      ]
     },
     "execution_count": 71,
     "metadata": {},
     "output_type": "execute_result"
    }
   ],
   "source": [
    "df[\"timestamp\"] = pd.to_datetime(df[\"timestamp\"], unit = \"s\")\n",
    "df[\"month\"] = df['timestamp'].dt.month  # 1-12\n",
    "df[\"day\"] = df['timestamp'].dt.dayofweek  # 0-6\n",
    "df[\"hour\"] = df['timestamp'].dt.hour  # 0-23\n",
    "\n",
    "df.drop(\"timestamp\", axis = 1, inplace = True)\n",
    "df.head()"
   ]
  },
  {
   "attachments": {},
   "cell_type": "markdown",
   "metadata": {},
   "source": [
    "## Reindexing columns"
   ]
  },
  {
   "cell_type": "code",
   "execution_count": 72,
   "metadata": {},
   "outputs": [
    {
     "data": {
      "text/html": [
       "<div>\n",
       "<style scoped>\n",
       "    .dataframe tbody tr th:only-of-type {\n",
       "        vertical-align: middle;\n",
       "    }\n",
       "\n",
       "    .dataframe tbody tr th {\n",
       "        vertical-align: top;\n",
       "    }\n",
       "\n",
       "    .dataframe thead th {\n",
       "        text-align: right;\n",
       "    }\n",
       "</style>\n",
       "<table border=\"1\" class=\"dataframe\">\n",
       "  <thead>\n",
       "    <tr style=\"text-align: right;\">\n",
       "      <th></th>\n",
       "      <th>month</th>\n",
       "      <th>day</th>\n",
       "      <th>hour</th>\n",
       "      <th>station_num</th>\n",
       "      <th>total_stands</th>\n",
       "      <th>available_stands</th>\n",
       "      <th>temp</th>\n",
       "      <th>weather_desc</th>\n",
       "      <th>visibility</th>\n",
       "      <th>wind_speed</th>\n",
       "      <th>wind_deg</th>\n",
       "      <th>available_bikes</th>\n",
       "    </tr>\n",
       "  </thead>\n",
       "  <tbody>\n",
       "    <tr>\n",
       "      <th>336580</th>\n",
       "      <td>3</td>\n",
       "      <td>0</td>\n",
       "      <td>14</td>\n",
       "      <td>42</td>\n",
       "      <td>30.0</td>\n",
       "      <td>14</td>\n",
       "      <td>278.81</td>\n",
       "      <td>light rain</td>\n",
       "      <td>10000.0</td>\n",
       "      <td>3.09</td>\n",
       "      <td>290.0</td>\n",
       "      <td>16</td>\n",
       "    </tr>\n",
       "    <tr>\n",
       "      <th>336581</th>\n",
       "      <td>3</td>\n",
       "      <td>0</td>\n",
       "      <td>14</td>\n",
       "      <td>30</td>\n",
       "      <td>20.0</td>\n",
       "      <td>20</td>\n",
       "      <td>278.81</td>\n",
       "      <td>light rain</td>\n",
       "      <td>10000.0</td>\n",
       "      <td>3.09</td>\n",
       "      <td>290.0</td>\n",
       "      <td>0</td>\n",
       "    </tr>\n",
       "    <tr>\n",
       "      <th>336582</th>\n",
       "      <td>3</td>\n",
       "      <td>0</td>\n",
       "      <td>14</td>\n",
       "      <td>54</td>\n",
       "      <td>33.0</td>\n",
       "      <td>16</td>\n",
       "      <td>278.81</td>\n",
       "      <td>light rain</td>\n",
       "      <td>10000.0</td>\n",
       "      <td>3.09</td>\n",
       "      <td>290.0</td>\n",
       "      <td>17</td>\n",
       "    </tr>\n",
       "    <tr>\n",
       "      <th>336583</th>\n",
       "      <td>3</td>\n",
       "      <td>0</td>\n",
       "      <td>14</td>\n",
       "      <td>108</td>\n",
       "      <td>35.0</td>\n",
       "      <td>21</td>\n",
       "      <td>278.81</td>\n",
       "      <td>light rain</td>\n",
       "      <td>10000.0</td>\n",
       "      <td>3.09</td>\n",
       "      <td>290.0</td>\n",
       "      <td>14</td>\n",
       "    </tr>\n",
       "    <tr>\n",
       "      <th>336584</th>\n",
       "      <td>3</td>\n",
       "      <td>0</td>\n",
       "      <td>14</td>\n",
       "      <td>20</td>\n",
       "      <td>30.0</td>\n",
       "      <td>8</td>\n",
       "      <td>278.81</td>\n",
       "      <td>light rain</td>\n",
       "      <td>10000.0</td>\n",
       "      <td>3.09</td>\n",
       "      <td>290.0</td>\n",
       "      <td>22</td>\n",
       "    </tr>\n",
       "  </tbody>\n",
       "</table>\n",
       "</div>"
      ],
      "text/plain": [
       "        month  day  hour  station_num  total_stands  available_stands    temp  \\\n",
       "336580      3    0    14           42          30.0                14  278.81   \n",
       "336581      3    0    14           30          20.0                20  278.81   \n",
       "336582      3    0    14           54          33.0                16  278.81   \n",
       "336583      3    0    14          108          35.0                21  278.81   \n",
       "336584      3    0    14           20          30.0                 8  278.81   \n",
       "\n",
       "       weather_desc  visibility  wind_speed  wind_deg  available_bikes  \n",
       "336580   light rain     10000.0        3.09     290.0               16  \n",
       "336581   light rain     10000.0        3.09     290.0                0  \n",
       "336582   light rain     10000.0        3.09     290.0               17  \n",
       "336583   light rain     10000.0        3.09     290.0               14  \n",
       "336584   light rain     10000.0        3.09     290.0               22  "
      ]
     },
     "execution_count": 72,
     "metadata": {},
     "output_type": "execute_result"
    }
   ],
   "source": [
    "column_order = [\"month\", \"day\", \"hour\", \"station_num\", \"total_stands\", \"available_stands\", \"temp\", \"weather_desc\", \"visibility\", \"wind_speed\", \"wind_deg\", \"available_bikes\"]\n",
    "df = df.reindex(columns = column_order)\n",
    "df.head()"
   ]
  },
  {
   "attachments": {},
   "cell_type": "markdown",
   "metadata": {},
   "source": [
    "## Replacing weather_desc values with corresponding weather IDs"
   ]
  },
  {
   "attachments": {},
   "cell_type": "markdown",
   "metadata": {},
   "source": [
    "When I started scraping the weather data, I never included the weather IDs for each call to the OpenWeather APIs, preferring to pull a description of the weather in English. It has occured to me that it would have been far more useful to scrape the weather IDs for the purposes of training the model. So, I have counted each unique value for weather descriptions from our database, and below I will replace all of the weather description strings in the weather_desc feature of the data frame with their corresponding weather IDs, as described here: https://openweathermap.org/weather-conditions"
   ]
  },
  {
   "cell_type": "code",
   "execution_count": 73,
   "metadata": {},
   "outputs": [
    {
     "data": {
      "text/html": [
       "<div>\n",
       "<style scoped>\n",
       "    .dataframe tbody tr th:only-of-type {\n",
       "        vertical-align: middle;\n",
       "    }\n",
       "\n",
       "    .dataframe tbody tr th {\n",
       "        vertical-align: top;\n",
       "    }\n",
       "\n",
       "    .dataframe thead th {\n",
       "        text-align: right;\n",
       "    }\n",
       "</style>\n",
       "<table border=\"1\" class=\"dataframe\">\n",
       "  <thead>\n",
       "    <tr style=\"text-align: right;\">\n",
       "      <th></th>\n",
       "      <th>month</th>\n",
       "      <th>day</th>\n",
       "      <th>hour</th>\n",
       "      <th>station_num</th>\n",
       "      <th>total_stands</th>\n",
       "      <th>available_stands</th>\n",
       "      <th>temp</th>\n",
       "      <th>weather_desc</th>\n",
       "      <th>visibility</th>\n",
       "      <th>wind_speed</th>\n",
       "      <th>wind_deg</th>\n",
       "      <th>available_bikes</th>\n",
       "    </tr>\n",
       "  </thead>\n",
       "  <tbody>\n",
       "    <tr>\n",
       "      <th>336580</th>\n",
       "      <td>3</td>\n",
       "      <td>0</td>\n",
       "      <td>14</td>\n",
       "      <td>42</td>\n",
       "      <td>30.0</td>\n",
       "      <td>14</td>\n",
       "      <td>278.81</td>\n",
       "      <td>500</td>\n",
       "      <td>10000.0</td>\n",
       "      <td>3.09</td>\n",
       "      <td>290.0</td>\n",
       "      <td>16</td>\n",
       "    </tr>\n",
       "    <tr>\n",
       "      <th>336581</th>\n",
       "      <td>3</td>\n",
       "      <td>0</td>\n",
       "      <td>14</td>\n",
       "      <td>30</td>\n",
       "      <td>20.0</td>\n",
       "      <td>20</td>\n",
       "      <td>278.81</td>\n",
       "      <td>500</td>\n",
       "      <td>10000.0</td>\n",
       "      <td>3.09</td>\n",
       "      <td>290.0</td>\n",
       "      <td>0</td>\n",
       "    </tr>\n",
       "    <tr>\n",
       "      <th>336582</th>\n",
       "      <td>3</td>\n",
       "      <td>0</td>\n",
       "      <td>14</td>\n",
       "      <td>54</td>\n",
       "      <td>33.0</td>\n",
       "      <td>16</td>\n",
       "      <td>278.81</td>\n",
       "      <td>500</td>\n",
       "      <td>10000.0</td>\n",
       "      <td>3.09</td>\n",
       "      <td>290.0</td>\n",
       "      <td>17</td>\n",
       "    </tr>\n",
       "    <tr>\n",
       "      <th>336583</th>\n",
       "      <td>3</td>\n",
       "      <td>0</td>\n",
       "      <td>14</td>\n",
       "      <td>108</td>\n",
       "      <td>35.0</td>\n",
       "      <td>21</td>\n",
       "      <td>278.81</td>\n",
       "      <td>500</td>\n",
       "      <td>10000.0</td>\n",
       "      <td>3.09</td>\n",
       "      <td>290.0</td>\n",
       "      <td>14</td>\n",
       "    </tr>\n",
       "    <tr>\n",
       "      <th>336584</th>\n",
       "      <td>3</td>\n",
       "      <td>0</td>\n",
       "      <td>14</td>\n",
       "      <td>20</td>\n",
       "      <td>30.0</td>\n",
       "      <td>8</td>\n",
       "      <td>278.81</td>\n",
       "      <td>500</td>\n",
       "      <td>10000.0</td>\n",
       "      <td>3.09</td>\n",
       "      <td>290.0</td>\n",
       "      <td>22</td>\n",
       "    </tr>\n",
       "  </tbody>\n",
       "</table>\n",
       "</div>"
      ],
      "text/plain": [
       "        month  day  hour  station_num  total_stands  available_stands    temp  \\\n",
       "336580      3    0    14           42          30.0                14  278.81   \n",
       "336581      3    0    14           30          20.0                20  278.81   \n",
       "336582      3    0    14           54          33.0                16  278.81   \n",
       "336583      3    0    14          108          35.0                21  278.81   \n",
       "336584      3    0    14           20          30.0                 8  278.81   \n",
       "\n",
       "        weather_desc  visibility  wind_speed  wind_deg  available_bikes  \n",
       "336580           500     10000.0        3.09     290.0               16  \n",
       "336581           500     10000.0        3.09     290.0                0  \n",
       "336582           500     10000.0        3.09     290.0               17  \n",
       "336583           500     10000.0        3.09     290.0               14  \n",
       "336584           500     10000.0        3.09     290.0               22  "
      ]
     },
     "execution_count": 73,
     "metadata": {},
     "output_type": "execute_result"
    }
   ],
   "source": [
    "df[\"weather_desc\"] = df[\"weather_desc\"].replace({\"light rain\": 500, \"broken clouds\": 803, \"moderate rain\": 501, \"light intensity drizzle\": 300, \"clear sky\": 800, \"overcast clouds\": 804, \n",
    "                                                 \"scattered clouds\": 802, \"few clouds\": 801, \"snow\": 601, \"heavy intensity rain\": 502, \"sleet\": 611, \"mist\": 701, \"light snow\": 600, \n",
    "                                                 \"light intensity shower rain\": 520, \"light intensity drizzle rain\": 310, \"shower rain\": 521, \"fog\": 741})\n",
    "df.head()"
   ]
  },
  {
   "attachments": {},
   "cell_type": "markdown",
   "metadata": {},
   "source": [
    "# Data separation to X and Y"
   ]
  },
  {
   "attachments": {},
   "cell_type": "markdown",
   "metadata": {},
   "source": [
    "## Y variable"
   ]
  },
  {
   "cell_type": "code",
   "execution_count": 74,
   "metadata": {},
   "outputs": [
    {
     "data": {
      "text/plain": [
       "336580     16\n",
       "336581      0\n",
       "336582     17\n",
       "336583     14\n",
       "336584     22\n",
       "           ..\n",
       "1281561     7\n",
       "1281562     0\n",
       "1281563     0\n",
       "1281564    16\n",
       "1281565    11\n",
       "Name: available_bikes, Length: 787740, dtype: int64"
      ]
     },
     "execution_count": 74,
     "metadata": {},
     "output_type": "execute_result"
    }
   ],
   "source": [
    "y = df[\"available_bikes\"]\n",
    "y"
   ]
  },
  {
   "attachments": {},
   "cell_type": "markdown",
   "metadata": {},
   "source": [
    "## X variables"
   ]
  },
  {
   "cell_type": "code",
   "execution_count": 75,
   "metadata": {},
   "outputs": [
    {
     "data": {
      "text/html": [
       "<div>\n",
       "<style scoped>\n",
       "    .dataframe tbody tr th:only-of-type {\n",
       "        vertical-align: middle;\n",
       "    }\n",
       "\n",
       "    .dataframe tbody tr th {\n",
       "        vertical-align: top;\n",
       "    }\n",
       "\n",
       "    .dataframe thead th {\n",
       "        text-align: right;\n",
       "    }\n",
       "</style>\n",
       "<table border=\"1\" class=\"dataframe\">\n",
       "  <thead>\n",
       "    <tr style=\"text-align: right;\">\n",
       "      <th></th>\n",
       "      <th>month</th>\n",
       "      <th>day</th>\n",
       "      <th>hour</th>\n",
       "      <th>station_num</th>\n",
       "      <th>total_stands</th>\n",
       "      <th>available_stands</th>\n",
       "      <th>temp</th>\n",
       "      <th>weather_desc</th>\n",
       "      <th>visibility</th>\n",
       "      <th>wind_speed</th>\n",
       "      <th>wind_deg</th>\n",
       "    </tr>\n",
       "  </thead>\n",
       "  <tbody>\n",
       "    <tr>\n",
       "      <th>336580</th>\n",
       "      <td>3</td>\n",
       "      <td>0</td>\n",
       "      <td>14</td>\n",
       "      <td>42</td>\n",
       "      <td>30.0</td>\n",
       "      <td>14</td>\n",
       "      <td>278.81</td>\n",
       "      <td>500</td>\n",
       "      <td>10000.0</td>\n",
       "      <td>3.09</td>\n",
       "      <td>290.0</td>\n",
       "    </tr>\n",
       "    <tr>\n",
       "      <th>336581</th>\n",
       "      <td>3</td>\n",
       "      <td>0</td>\n",
       "      <td>14</td>\n",
       "      <td>30</td>\n",
       "      <td>20.0</td>\n",
       "      <td>20</td>\n",
       "      <td>278.81</td>\n",
       "      <td>500</td>\n",
       "      <td>10000.0</td>\n",
       "      <td>3.09</td>\n",
       "      <td>290.0</td>\n",
       "    </tr>\n",
       "    <tr>\n",
       "      <th>336582</th>\n",
       "      <td>3</td>\n",
       "      <td>0</td>\n",
       "      <td>14</td>\n",
       "      <td>54</td>\n",
       "      <td>33.0</td>\n",
       "      <td>16</td>\n",
       "      <td>278.81</td>\n",
       "      <td>500</td>\n",
       "      <td>10000.0</td>\n",
       "      <td>3.09</td>\n",
       "      <td>290.0</td>\n",
       "    </tr>\n",
       "    <tr>\n",
       "      <th>336583</th>\n",
       "      <td>3</td>\n",
       "      <td>0</td>\n",
       "      <td>14</td>\n",
       "      <td>108</td>\n",
       "      <td>35.0</td>\n",
       "      <td>21</td>\n",
       "      <td>278.81</td>\n",
       "      <td>500</td>\n",
       "      <td>10000.0</td>\n",
       "      <td>3.09</td>\n",
       "      <td>290.0</td>\n",
       "    </tr>\n",
       "    <tr>\n",
       "      <th>336584</th>\n",
       "      <td>3</td>\n",
       "      <td>0</td>\n",
       "      <td>14</td>\n",
       "      <td>20</td>\n",
       "      <td>30.0</td>\n",
       "      <td>8</td>\n",
       "      <td>278.81</td>\n",
       "      <td>500</td>\n",
       "      <td>10000.0</td>\n",
       "      <td>3.09</td>\n",
       "      <td>290.0</td>\n",
       "    </tr>\n",
       "    <tr>\n",
       "      <th>...</th>\n",
       "      <td>...</td>\n",
       "      <td>...</td>\n",
       "      <td>...</td>\n",
       "      <td>...</td>\n",
       "      <td>...</td>\n",
       "      <td>...</td>\n",
       "      <td>...</td>\n",
       "      <td>...</td>\n",
       "      <td>...</td>\n",
       "      <td>...</td>\n",
       "      <td>...</td>\n",
       "    </tr>\n",
       "    <tr>\n",
       "      <th>1281561</th>\n",
       "      <td>4</td>\n",
       "      <td>1</td>\n",
       "      <td>8</td>\n",
       "      <td>39</td>\n",
       "      <td>20.0</td>\n",
       "      <td>13</td>\n",
       "      <td>282.00</td>\n",
       "      <td>803</td>\n",
       "      <td>10000.0</td>\n",
       "      <td>3.09</td>\n",
       "      <td>160.0</td>\n",
       "    </tr>\n",
       "    <tr>\n",
       "      <th>1281562</th>\n",
       "      <td>4</td>\n",
       "      <td>1</td>\n",
       "      <td>8</td>\n",
       "      <td>83</td>\n",
       "      <td>40.0</td>\n",
       "      <td>40</td>\n",
       "      <td>282.00</td>\n",
       "      <td>803</td>\n",
       "      <td>10000.0</td>\n",
       "      <td>3.09</td>\n",
       "      <td>160.0</td>\n",
       "    </tr>\n",
       "    <tr>\n",
       "      <th>1281563</th>\n",
       "      <td>4</td>\n",
       "      <td>1</td>\n",
       "      <td>8</td>\n",
       "      <td>92</td>\n",
       "      <td>40.0</td>\n",
       "      <td>40</td>\n",
       "      <td>282.00</td>\n",
       "      <td>803</td>\n",
       "      <td>10000.0</td>\n",
       "      <td>3.09</td>\n",
       "      <td>160.0</td>\n",
       "    </tr>\n",
       "    <tr>\n",
       "      <th>1281564</th>\n",
       "      <td>4</td>\n",
       "      <td>1</td>\n",
       "      <td>8</td>\n",
       "      <td>21</td>\n",
       "      <td>30.0</td>\n",
       "      <td>14</td>\n",
       "      <td>282.00</td>\n",
       "      <td>803</td>\n",
       "      <td>10000.0</td>\n",
       "      <td>3.09</td>\n",
       "      <td>160.0</td>\n",
       "    </tr>\n",
       "    <tr>\n",
       "      <th>1281565</th>\n",
       "      <td>4</td>\n",
       "      <td>1</td>\n",
       "      <td>8</td>\n",
       "      <td>88</td>\n",
       "      <td>30.0</td>\n",
       "      <td>19</td>\n",
       "      <td>282.00</td>\n",
       "      <td>803</td>\n",
       "      <td>10000.0</td>\n",
       "      <td>3.09</td>\n",
       "      <td>160.0</td>\n",
       "    </tr>\n",
       "  </tbody>\n",
       "</table>\n",
       "<p>787740 rows × 11 columns</p>\n",
       "</div>"
      ],
      "text/plain": [
       "         month  day  hour  station_num  total_stands  available_stands  \\\n",
       "336580       3    0    14           42          30.0                14   \n",
       "336581       3    0    14           30          20.0                20   \n",
       "336582       3    0    14           54          33.0                16   \n",
       "336583       3    0    14          108          35.0                21   \n",
       "336584       3    0    14           20          30.0                 8   \n",
       "...        ...  ...   ...          ...           ...               ...   \n",
       "1281561      4    1     8           39          20.0                13   \n",
       "1281562      4    1     8           83          40.0                40   \n",
       "1281563      4    1     8           92          40.0                40   \n",
       "1281564      4    1     8           21          30.0                14   \n",
       "1281565      4    1     8           88          30.0                19   \n",
       "\n",
       "           temp  weather_desc  visibility  wind_speed  wind_deg  \n",
       "336580   278.81           500     10000.0        3.09     290.0  \n",
       "336581   278.81           500     10000.0        3.09     290.0  \n",
       "336582   278.81           500     10000.0        3.09     290.0  \n",
       "336583   278.81           500     10000.0        3.09     290.0  \n",
       "336584   278.81           500     10000.0        3.09     290.0  \n",
       "...         ...           ...         ...         ...       ...  \n",
       "1281561  282.00           803     10000.0        3.09     160.0  \n",
       "1281562  282.00           803     10000.0        3.09     160.0  \n",
       "1281563  282.00           803     10000.0        3.09     160.0  \n",
       "1281564  282.00           803     10000.0        3.09     160.0  \n",
       "1281565  282.00           803     10000.0        3.09     160.0  \n",
       "\n",
       "[787740 rows x 11 columns]"
      ]
     },
     "execution_count": 75,
     "metadata": {},
     "output_type": "execute_result"
    }
   ],
   "source": [
    "x = df.drop(\"available_bikes\", axis = 1)\n",
    "x"
   ]
  },
  {
   "attachments": {},
   "cell_type": "markdown",
   "metadata": {},
   "source": [
    "# Splitting data into sets"
   ]
  },
  {
   "cell_type": "code",
   "execution_count": 76,
   "metadata": {},
   "outputs": [],
   "source": [
    "from sklearn.model_selection import train_test_split\n",
    "\n",
    "x_train, x_test, y_train, y_test = train_test_split(x, y, test_size = 0.2, random_state = 100)"
   ]
  },
  {
   "cell_type": "code",
   "execution_count": null,
   "metadata": {},
   "outputs": [],
   "source": []
  },
  {
   "attachments": {},
   "cell_type": "markdown",
   "metadata": {},
   "source": [
    "# Model building"
   ]
  },
  {
   "attachments": {},
   "cell_type": "markdown",
   "metadata": {},
   "source": [
    "## Linear regression"
   ]
  },
  {
   "attachments": {},
   "cell_type": "markdown",
   "metadata": {},
   "source": [
    "### Training model"
   ]
  },
  {
   "cell_type": "code",
   "execution_count": 77,
   "metadata": {},
   "outputs": [
    {
     "data": {
      "text/html": [
       "<style>#sk-container-id-3 {color: black;background-color: white;}#sk-container-id-3 pre{padding: 0;}#sk-container-id-3 div.sk-toggleable {background-color: white;}#sk-container-id-3 label.sk-toggleable__label {cursor: pointer;display: block;width: 100%;margin-bottom: 0;padding: 0.3em;box-sizing: border-box;text-align: center;}#sk-container-id-3 label.sk-toggleable__label-arrow:before {content: \"▸\";float: left;margin-right: 0.25em;color: #696969;}#sk-container-id-3 label.sk-toggleable__label-arrow:hover:before {color: black;}#sk-container-id-3 div.sk-estimator:hover label.sk-toggleable__label-arrow:before {color: black;}#sk-container-id-3 div.sk-toggleable__content {max-height: 0;max-width: 0;overflow: hidden;text-align: left;background-color: #f0f8ff;}#sk-container-id-3 div.sk-toggleable__content pre {margin: 0.2em;color: black;border-radius: 0.25em;background-color: #f0f8ff;}#sk-container-id-3 input.sk-toggleable__control:checked~div.sk-toggleable__content {max-height: 200px;max-width: 100%;overflow: auto;}#sk-container-id-3 input.sk-toggleable__control:checked~label.sk-toggleable__label-arrow:before {content: \"▾\";}#sk-container-id-3 div.sk-estimator input.sk-toggleable__control:checked~label.sk-toggleable__label {background-color: #d4ebff;}#sk-container-id-3 div.sk-label input.sk-toggleable__control:checked~label.sk-toggleable__label {background-color: #d4ebff;}#sk-container-id-3 input.sk-hidden--visually {border: 0;clip: rect(1px 1px 1px 1px);clip: rect(1px, 1px, 1px, 1px);height: 1px;margin: -1px;overflow: hidden;padding: 0;position: absolute;width: 1px;}#sk-container-id-3 div.sk-estimator {font-family: monospace;background-color: #f0f8ff;border: 1px dotted black;border-radius: 0.25em;box-sizing: border-box;margin-bottom: 0.5em;}#sk-container-id-3 div.sk-estimator:hover {background-color: #d4ebff;}#sk-container-id-3 div.sk-parallel-item::after {content: \"\";width: 100%;border-bottom: 1px solid gray;flex-grow: 1;}#sk-container-id-3 div.sk-label:hover label.sk-toggleable__label {background-color: #d4ebff;}#sk-container-id-3 div.sk-serial::before {content: \"\";position: absolute;border-left: 1px solid gray;box-sizing: border-box;top: 0;bottom: 0;left: 50%;z-index: 0;}#sk-container-id-3 div.sk-serial {display: flex;flex-direction: column;align-items: center;background-color: white;padding-right: 0.2em;padding-left: 0.2em;position: relative;}#sk-container-id-3 div.sk-item {position: relative;z-index: 1;}#sk-container-id-3 div.sk-parallel {display: flex;align-items: stretch;justify-content: center;background-color: white;position: relative;}#sk-container-id-3 div.sk-item::before, #sk-container-id-3 div.sk-parallel-item::before {content: \"\";position: absolute;border-left: 1px solid gray;box-sizing: border-box;top: 0;bottom: 0;left: 50%;z-index: -1;}#sk-container-id-3 div.sk-parallel-item {display: flex;flex-direction: column;z-index: 1;position: relative;background-color: white;}#sk-container-id-3 div.sk-parallel-item:first-child::after {align-self: flex-end;width: 50%;}#sk-container-id-3 div.sk-parallel-item:last-child::after {align-self: flex-start;width: 50%;}#sk-container-id-3 div.sk-parallel-item:only-child::after {width: 0;}#sk-container-id-3 div.sk-dashed-wrapped {border: 1px dashed gray;margin: 0 0.4em 0.5em 0.4em;box-sizing: border-box;padding-bottom: 0.4em;background-color: white;}#sk-container-id-3 div.sk-label label {font-family: monospace;font-weight: bold;display: inline-block;line-height: 1.2em;}#sk-container-id-3 div.sk-label-container {text-align: center;}#sk-container-id-3 div.sk-container {/* jupyter's `normalize.less` sets `[hidden] { display: none; }` but bootstrap.min.css set `[hidden] { display: none !important; }` so we also need the `!important` here to be able to override the default hidden behavior on the sphinx rendered scikit-learn.org. See: https://github.com/scikit-learn/scikit-learn/issues/21755 */display: inline-block !important;position: relative;}#sk-container-id-3 div.sk-text-repr-fallback {display: none;}</style><div id=\"sk-container-id-3\" class=\"sk-top-container\"><div class=\"sk-text-repr-fallback\"><pre>LinearRegression()</pre><b>In a Jupyter environment, please rerun this cell to show the HTML representation or trust the notebook. <br />On GitHub, the HTML representation is unable to render, please try loading this page with nbviewer.org.</b></div><div class=\"sk-container\" hidden><div class=\"sk-item\"><div class=\"sk-estimator sk-toggleable\"><input class=\"sk-toggleable__control sk-hidden--visually\" id=\"sk-estimator-id-3\" type=\"checkbox\" checked><label for=\"sk-estimator-id-3\" class=\"sk-toggleable__label sk-toggleable__label-arrow\">LinearRegression</label><div class=\"sk-toggleable__content\"><pre>LinearRegression()</pre></div></div></div></div></div>"
      ],
      "text/plain": [
       "LinearRegression()"
      ]
     },
     "execution_count": 77,
     "metadata": {},
     "output_type": "execute_result"
    }
   ],
   "source": [
    "from sklearn.linear_model import LinearRegression\n",
    "\n",
    "lr = LinearRegression()\n",
    "lr.fit(x_train, y_train)"
   ]
  },
  {
   "attachments": {},
   "cell_type": "markdown",
   "metadata": {},
   "source": [
    "### Applying model to make a prediction"
   ]
  },
  {
   "cell_type": "code",
   "execution_count": 78,
   "metadata": {},
   "outputs": [
    {
     "name": "stdout",
     "output_type": "stream",
     "text": [
      "[ 0.71176789  1.65821602 25.27927443 10.34408724  0.75660027 12.47505307\n",
      " 27.69754294 37.89680168 17.80751586 15.96859882  5.13459385  7.83794881\n",
      "  7.86638828  4.56053744 27.14496372 14.98437126 19.18017325  6.94492044\n",
      "  7.74065055 10.66147116 15.56664632 16.48504561 20.62627469  9.69803079\n",
      " 25.15085317  9.37853359 12.93506156 17.35865515 29.98199599 12.23237792\n",
      "  1.13566416 23.35626532 15.5279953   7.44949089 11.61738455 18.34318049\n",
      " 17.75678555 28.65560675  0.77572027  5.38709058  0.48312809 37.5538287\n",
      " 17.6467782   4.2337042  15.79835346 23.20041236  6.70391554  1.39720347\n",
      " 36.05152564  6.73606146  0.28609358  6.58257899  4.33444905 -0.36413118\n",
      " 28.32331065  8.74609839  7.90959605 -0.15046401  5.6370166  14.56266207\n",
      "  7.61184177  6.38335169 10.2479457  14.57371562 -0.24202546 14.05948762\n",
      " 16.15100904 31.41333758 13.6856073   2.39455909 17.94401493 14.81917914\n",
      "  7.9540161   4.35002816 16.58881666 14.98548628 19.54986334 21.16715384\n",
      " 14.81293239 14.24398265 12.74479222  8.23233371  3.62552685  8.65730601\n",
      "  6.2698465  16.01841182  5.35239481  1.12300162  0.33838517 11.20113072\n",
      "  5.14200549 10.57521126  0.46210523  5.10114816 18.67167196  0.54657658\n",
      " -0.28758495 20.27283861 12.96480458  2.10225807]\n"
     ]
    }
   ],
   "source": [
    "y_lr_train_pred = lr.predict(x_train)\n",
    "y_lr_test_pred = lr.predict(x_test)\n",
    "\n",
    "print(y_lr_train_pred[:100])"
   ]
  },
  {
   "cell_type": "code",
   "execution_count": 79,
   "metadata": {},
   "outputs": [
    {
     "name": "stdout",
     "output_type": "stream",
     "text": [
      "[12.7990898  24.2096296   2.0595962  36.49117772  5.33264481 18.98676247\n",
      "  5.47703191  0.07300997 -0.3230541   9.85046661 11.64467353  6.58515576\n",
      "  2.03875958  1.42926005  9.12923416 23.53792474 13.95400005  1.21064871\n",
      "  4.87210434 14.88595699  8.79177575  1.80550372  3.54280055  3.28871525\n",
      "  6.4686931  12.67848499  5.6737148  10.96592111 18.59223746 21.08371424\n",
      "  1.7779735   5.65353366 23.38299727  2.3353746   2.26417777  8.04333367\n",
      "  8.76564513 12.29128602  4.33893106 18.73120654 10.36704703 26.81464926\n",
      " 13.94492457  3.99745715  0.32894622 21.72923114 17.51998545  9.27889466\n",
      "  0.15698212  8.45511087  3.04708344 18.7959866   8.89785413 13.27106883\n",
      "  9.9606046   5.54743785 10.64508123 18.12896787  3.00890449 10.17926588\n",
      " 17.39696802  2.04860337 12.51193237 12.03682292  8.47065061  0.20757855\n",
      " 12.51917274 26.27426886  5.59005726  7.50804166 14.68627874  4.10764869\n",
      " 12.37764216  5.37723248 29.68600678  3.5061512   2.45717179 21.31578954\n",
      "  9.89536929  9.48074849 26.85302936  3.94166858  6.78343468  9.45267563\n",
      " 13.57731526  8.33219672 15.71570955  3.27361463  0.43891546  1.15218832\n",
      " 18.50858812  8.05079089  2.04435734 34.78844209  3.65405476  8.25836804\n",
      "  2.76006626 17.19930364 22.30342939 16.03766208]\n"
     ]
    }
   ],
   "source": [
    "print(y_lr_test_pred[:100])"
   ]
  },
  {
   "attachments": {},
   "cell_type": "markdown",
   "metadata": {},
   "source": [
    "### Evaluating model performance"
   ]
  },
  {
   "cell_type": "code",
   "execution_count": 80,
   "metadata": {},
   "outputs": [],
   "source": [
    "from sklearn.metrics import mean_squared_error, r2_score\n",
    "\n",
    "lr_train_mse = mean_squared_error(y_train, y_lr_train_pred)\n",
    "lr_train_r2 = r2_score(y_train, y_lr_train_pred)\n",
    "\n",
    "lr_test_mse = mean_squared_error(y_test, y_lr_test_pred)\n",
    "lr_test_r2 = r2_score(y_test, y_lr_test_pred)"
   ]
  },
  {
   "cell_type": "code",
   "execution_count": 81,
   "metadata": {},
   "outputs": [
    {
     "data": {
      "text/html": [
       "<div>\n",
       "<style scoped>\n",
       "    .dataframe tbody tr th:only-of-type {\n",
       "        vertical-align: middle;\n",
       "    }\n",
       "\n",
       "    .dataframe tbody tr th {\n",
       "        vertical-align: top;\n",
       "    }\n",
       "\n",
       "    .dataframe thead th {\n",
       "        text-align: right;\n",
       "    }\n",
       "</style>\n",
       "<table border=\"1\" class=\"dataframe\">\n",
       "  <thead>\n",
       "    <tr style=\"text-align: right;\">\n",
       "      <th></th>\n",
       "      <th>Method</th>\n",
       "      <th>Training MSE</th>\n",
       "      <th>Training R2</th>\n",
       "      <th>Test MSE</th>\n",
       "      <th>Test R2</th>\n",
       "    </tr>\n",
       "  </thead>\n",
       "  <tbody>\n",
       "    <tr>\n",
       "      <th>0</th>\n",
       "      <td>Linear regression</td>\n",
       "      <td>5.650267</td>\n",
       "      <td>0.936988</td>\n",
       "      <td>5.552693</td>\n",
       "      <td>0.937708</td>\n",
       "    </tr>\n",
       "  </tbody>\n",
       "</table>\n",
       "</div>"
      ],
      "text/plain": [
       "              Method Training MSE Training R2  Test MSE   Test R2\n",
       "0  Linear regression     5.650267    0.936988  5.552693  0.937708"
      ]
     },
     "execution_count": 81,
     "metadata": {},
     "output_type": "execute_result"
    }
   ],
   "source": [
    "lr_results = pd.DataFrame([\"Linear regression\", lr_train_mse, lr_train_r2, lr_test_mse, lr_test_r2]).transpose()\n",
    "lr_results.columns = [\"Method\", \"Training MSE\", \"Training R2\", \"Test MSE\", \"Test R2\"]\n",
    "lr_results"
   ]
  },
  {
   "attachments": {},
   "cell_type": "markdown",
   "metadata": {},
   "source": [
    "## Random forest"
   ]
  },
  {
   "attachments": {},
   "cell_type": "markdown",
   "metadata": {},
   "source": [
    "### Training model"
   ]
  },
  {
   "cell_type": "code",
   "execution_count": 82,
   "metadata": {},
   "outputs": [
    {
     "data": {
      "text/html": [
       "<style>#sk-container-id-4 {color: black;background-color: white;}#sk-container-id-4 pre{padding: 0;}#sk-container-id-4 div.sk-toggleable {background-color: white;}#sk-container-id-4 label.sk-toggleable__label {cursor: pointer;display: block;width: 100%;margin-bottom: 0;padding: 0.3em;box-sizing: border-box;text-align: center;}#sk-container-id-4 label.sk-toggleable__label-arrow:before {content: \"▸\";float: left;margin-right: 0.25em;color: #696969;}#sk-container-id-4 label.sk-toggleable__label-arrow:hover:before {color: black;}#sk-container-id-4 div.sk-estimator:hover label.sk-toggleable__label-arrow:before {color: black;}#sk-container-id-4 div.sk-toggleable__content {max-height: 0;max-width: 0;overflow: hidden;text-align: left;background-color: #f0f8ff;}#sk-container-id-4 div.sk-toggleable__content pre {margin: 0.2em;color: black;border-radius: 0.25em;background-color: #f0f8ff;}#sk-container-id-4 input.sk-toggleable__control:checked~div.sk-toggleable__content {max-height: 200px;max-width: 100%;overflow: auto;}#sk-container-id-4 input.sk-toggleable__control:checked~label.sk-toggleable__label-arrow:before {content: \"▾\";}#sk-container-id-4 div.sk-estimator input.sk-toggleable__control:checked~label.sk-toggleable__label {background-color: #d4ebff;}#sk-container-id-4 div.sk-label input.sk-toggleable__control:checked~label.sk-toggleable__label {background-color: #d4ebff;}#sk-container-id-4 input.sk-hidden--visually {border: 0;clip: rect(1px 1px 1px 1px);clip: rect(1px, 1px, 1px, 1px);height: 1px;margin: -1px;overflow: hidden;padding: 0;position: absolute;width: 1px;}#sk-container-id-4 div.sk-estimator {font-family: monospace;background-color: #f0f8ff;border: 1px dotted black;border-radius: 0.25em;box-sizing: border-box;margin-bottom: 0.5em;}#sk-container-id-4 div.sk-estimator:hover {background-color: #d4ebff;}#sk-container-id-4 div.sk-parallel-item::after {content: \"\";width: 100%;border-bottom: 1px solid gray;flex-grow: 1;}#sk-container-id-4 div.sk-label:hover label.sk-toggleable__label {background-color: #d4ebff;}#sk-container-id-4 div.sk-serial::before {content: \"\";position: absolute;border-left: 1px solid gray;box-sizing: border-box;top: 0;bottom: 0;left: 50%;z-index: 0;}#sk-container-id-4 div.sk-serial {display: flex;flex-direction: column;align-items: center;background-color: white;padding-right: 0.2em;padding-left: 0.2em;position: relative;}#sk-container-id-4 div.sk-item {position: relative;z-index: 1;}#sk-container-id-4 div.sk-parallel {display: flex;align-items: stretch;justify-content: center;background-color: white;position: relative;}#sk-container-id-4 div.sk-item::before, #sk-container-id-4 div.sk-parallel-item::before {content: \"\";position: absolute;border-left: 1px solid gray;box-sizing: border-box;top: 0;bottom: 0;left: 50%;z-index: -1;}#sk-container-id-4 div.sk-parallel-item {display: flex;flex-direction: column;z-index: 1;position: relative;background-color: white;}#sk-container-id-4 div.sk-parallel-item:first-child::after {align-self: flex-end;width: 50%;}#sk-container-id-4 div.sk-parallel-item:last-child::after {align-self: flex-start;width: 50%;}#sk-container-id-4 div.sk-parallel-item:only-child::after {width: 0;}#sk-container-id-4 div.sk-dashed-wrapped {border: 1px dashed gray;margin: 0 0.4em 0.5em 0.4em;box-sizing: border-box;padding-bottom: 0.4em;background-color: white;}#sk-container-id-4 div.sk-label label {font-family: monospace;font-weight: bold;display: inline-block;line-height: 1.2em;}#sk-container-id-4 div.sk-label-container {text-align: center;}#sk-container-id-4 div.sk-container {/* jupyter's `normalize.less` sets `[hidden] { display: none; }` but bootstrap.min.css set `[hidden] { display: none !important; }` so we also need the `!important` here to be able to override the default hidden behavior on the sphinx rendered scikit-learn.org. See: https://github.com/scikit-learn/scikit-learn/issues/21755 */display: inline-block !important;position: relative;}#sk-container-id-4 div.sk-text-repr-fallback {display: none;}</style><div id=\"sk-container-id-4\" class=\"sk-top-container\"><div class=\"sk-text-repr-fallback\"><pre>RandomForestRegressor(max_depth=2, random_state=100)</pre><b>In a Jupyter environment, please rerun this cell to show the HTML representation or trust the notebook. <br />On GitHub, the HTML representation is unable to render, please try loading this page with nbviewer.org.</b></div><div class=\"sk-container\" hidden><div class=\"sk-item\"><div class=\"sk-estimator sk-toggleable\"><input class=\"sk-toggleable__control sk-hidden--visually\" id=\"sk-estimator-id-4\" type=\"checkbox\" checked><label for=\"sk-estimator-id-4\" class=\"sk-toggleable__label sk-toggleable__label-arrow\">RandomForestRegressor</label><div class=\"sk-toggleable__content\"><pre>RandomForestRegressor(max_depth=2, random_state=100)</pre></div></div></div></div></div>"
      ],
      "text/plain": [
       "RandomForestRegressor(max_depth=2, random_state=100)"
      ]
     },
     "execution_count": 82,
     "metadata": {},
     "output_type": "execute_result"
    }
   ],
   "source": [
    "from sklearn.ensemble import RandomForestRegressor\n",
    "\n",
    "rf = RandomForestRegressor(max_depth=2, random_state=100)\n",
    "rf.fit(x_train, y_train)"
   ]
  },
  {
   "attachments": {},
   "cell_type": "markdown",
   "metadata": {},
   "source": [
    "### Applying model to make a prediction"
   ]
  },
  {
   "cell_type": "code",
   "execution_count": 83,
   "metadata": {},
   "outputs": [
    {
     "name": "stdout",
     "output_type": "stream",
     "text": [
      "[10.48678732 10.48678732 25.38123754  4.44165625  4.44165625 10.48678732\n",
      " 25.38123754 25.38123754 25.38123754 10.48678732  4.44165625  4.44165625\n",
      " 10.48678732 10.63172039 25.38123754 10.48678732 11.08236479  4.44165625\n",
      " 10.48678732 10.48678732 25.38123754 25.38123754 10.48678732 10.48678732\n",
      " 25.38123754 10.48678732 11.08236479 25.38123754 25.38123754 11.08236479\n",
      "  4.44165625 10.48678732 25.38123754 11.08236479 10.48678732 25.38123754\n",
      " 11.08236479 25.38123754 10.48678732 11.08236479  4.44165625 25.38123754\n",
      " 10.48678732  4.44165625 11.08236479 25.38123754 10.48678732  4.44165625\n",
      " 25.38123754 10.48678732  4.44165625 10.48678732 11.08236479 10.48678732\n",
      " 25.38123754 10.48678732  4.44165625 10.48678732 10.48678732 15.02184121\n",
      " 11.08236479  4.44165625  4.44165625 10.48678732 10.48678732 11.08236479\n",
      " 11.08236479 25.38123754 10.48678732 10.48678732 11.08236479 10.48678732\n",
      "  4.44165625 10.63172039 25.38123754 11.08236479 10.48678732 25.38123754\n",
      " 11.08236479 15.02184121  4.44165625 11.08236479 10.48678732 10.48678732\n",
      "  4.44165625 25.38123754  4.44165625  4.44165625  4.44165625 10.48678732\n",
      "  4.44165625 10.48678732  4.44165625  4.44165625 10.48678732 10.48678732\n",
      " 10.48678732 25.38123754 11.08236479  4.44165625]\n"
     ]
    }
   ],
   "source": [
    "y_rf_train_pred = rf.predict(x_train)\n",
    "y_rf_test_pred = rf.predict(x_test)\n",
    "\n",
    "print(y_rf_train_pred[:100])"
   ]
  },
  {
   "cell_type": "code",
   "execution_count": 84,
   "metadata": {},
   "outputs": [
    {
     "name": "stdout",
     "output_type": "stream",
     "text": [
      "[11.08236479 15.02184121  4.44165625 25.38123754 10.63172039 25.38123754\n",
      " 10.48678732 10.48678732  4.44165625  4.44165625  4.44165625 11.08236479\n",
      " 10.48678732  4.44165625 11.08236479 10.48678732 10.48678732  4.44165625\n",
      " 10.48678732 11.08236479 10.48678732 10.48678732 10.48678732  4.44165625\n",
      " 10.48678732 10.48678732 10.48678732  4.44165625 10.48678732 25.38123754\n",
      " 10.48678732 10.48678732 10.48678732  4.44165625  4.44165625  4.44165625\n",
      " 10.48678732 11.08236479 10.48678732 10.48678732 10.48678732 25.38123754\n",
      " 10.48678732 10.48678732  4.44165625 25.38123754 25.38123754  4.44165625\n",
      "  4.44165625 11.08236479  4.44165625 10.48678732  4.44165625 11.08236479\n",
      " 10.48678732 10.48678732 10.48678732 25.38123754  4.44165625 10.48678732\n",
      " 10.48678732  4.44165625 10.48678732 11.08236479 11.08236479  4.44165625\n",
      " 10.48678732 25.38123754 11.08236479 10.63172039 10.48678732 10.48678732\n",
      " 11.08236479 11.08236479 25.38123754  4.44165625  4.44165625 10.48678732\n",
      "  4.44165625 10.48678732 25.38123754 10.48678732  4.44165625 11.08236479\n",
      " 10.48678732 11.08236479 10.48678732  4.44165625  4.44165625  4.44165625\n",
      " 10.48678732  4.44165625  4.44165625 25.38123754 10.48678732 11.08236479\n",
      " 10.48678732 25.38123754 10.48678732 11.08236479]\n"
     ]
    }
   ],
   "source": [
    "print(y_rf_test_pred[:100])"
   ]
  },
  {
   "attachments": {},
   "cell_type": "markdown",
   "metadata": {},
   "source": [
    "### Evaluating model performance"
   ]
  },
  {
   "cell_type": "code",
   "execution_count": 85,
   "metadata": {},
   "outputs": [],
   "source": [
    "from sklearn.metrics import mean_squared_error, r2_score\n",
    "\n",
    "rf_train_mse = mean_squared_error(y_train, y_rf_train_pred)\n",
    "rf_train_r2 = r2_score(y_train, y_rf_train_pred)\n",
    "\n",
    "rf_test_mse = mean_squared_error(y_test, y_rf_test_pred)\n",
    "rf_test_r2 = r2_score(y_test, y_rf_test_pred)"
   ]
  },
  {
   "cell_type": "code",
   "execution_count": 86,
   "metadata": {},
   "outputs": [
    {
     "data": {
      "text/html": [
       "<div>\n",
       "<style scoped>\n",
       "    .dataframe tbody tr th:only-of-type {\n",
       "        vertical-align: middle;\n",
       "    }\n",
       "\n",
       "    .dataframe tbody tr th {\n",
       "        vertical-align: top;\n",
       "    }\n",
       "\n",
       "    .dataframe thead th {\n",
       "        text-align: right;\n",
       "    }\n",
       "</style>\n",
       "<table border=\"1\" class=\"dataframe\">\n",
       "  <thead>\n",
       "    <tr style=\"text-align: right;\">\n",
       "      <th></th>\n",
       "      <th>Method</th>\n",
       "      <th>Training MSE</th>\n",
       "      <th>Training R2</th>\n",
       "      <th>Test MSE</th>\n",
       "      <th>Test R2</th>\n",
       "    </tr>\n",
       "  </thead>\n",
       "  <tbody>\n",
       "    <tr>\n",
       "      <th>0</th>\n",
       "      <td>Random forest</td>\n",
       "      <td>34.764468</td>\n",
       "      <td>0.612304</td>\n",
       "      <td>34.672684</td>\n",
       "      <td>0.611033</td>\n",
       "    </tr>\n",
       "  </tbody>\n",
       "</table>\n",
       "</div>"
      ],
      "text/plain": [
       "          Method Training MSE Training R2   Test MSE   Test R2\n",
       "0  Random forest    34.764468    0.612304  34.672684  0.611033"
      ]
     },
     "execution_count": 86,
     "metadata": {},
     "output_type": "execute_result"
    }
   ],
   "source": [
    "rf_results = pd.DataFrame([\"Random forest\", rf_train_mse, rf_train_r2, rf_test_mse, rf_test_r2]).transpose()\n",
    "rf_results.columns = [\"Method\", \"Training MSE\", \"Training R2\", \"Test MSE\", \"Test R2\"]\n",
    "rf_results"
   ]
  },
  {
   "attachments": {},
   "cell_type": "markdown",
   "metadata": {},
   "source": [
    "## Model comparison"
   ]
  },
  {
   "cell_type": "code",
   "execution_count": 87,
   "metadata": {},
   "outputs": [
    {
     "data": {
      "text/html": [
       "<div>\n",
       "<style scoped>\n",
       "    .dataframe tbody tr th:only-of-type {\n",
       "        vertical-align: middle;\n",
       "    }\n",
       "\n",
       "    .dataframe tbody tr th {\n",
       "        vertical-align: top;\n",
       "    }\n",
       "\n",
       "    .dataframe thead th {\n",
       "        text-align: right;\n",
       "    }\n",
       "</style>\n",
       "<table border=\"1\" class=\"dataframe\">\n",
       "  <thead>\n",
       "    <tr style=\"text-align: right;\">\n",
       "      <th></th>\n",
       "      <th>Method</th>\n",
       "      <th>Training MSE</th>\n",
       "      <th>Training R2</th>\n",
       "      <th>Test MSE</th>\n",
       "      <th>Test R2</th>\n",
       "    </tr>\n",
       "  </thead>\n",
       "  <tbody>\n",
       "    <tr>\n",
       "      <th>0</th>\n",
       "      <td>Linear regression</td>\n",
       "      <td>5.650267</td>\n",
       "      <td>0.936988</td>\n",
       "      <td>5.552693</td>\n",
       "      <td>0.937708</td>\n",
       "    </tr>\n",
       "    <tr>\n",
       "      <th>1</th>\n",
       "      <td>Random forest</td>\n",
       "      <td>34.764468</td>\n",
       "      <td>0.612304</td>\n",
       "      <td>34.672684</td>\n",
       "      <td>0.611033</td>\n",
       "    </tr>\n",
       "  </tbody>\n",
       "</table>\n",
       "</div>"
      ],
      "text/plain": [
       "              Method Training MSE Training R2   Test MSE   Test R2\n",
       "0  Linear regression     5.650267    0.936988   5.552693  0.937708\n",
       "1      Random forest    34.764468    0.612304  34.672684  0.611033"
      ]
     },
     "execution_count": 87,
     "metadata": {},
     "output_type": "execute_result"
    }
   ],
   "source": [
    "df_models = pd.concat([lr_results, rf_results], axis=0).reset_index(drop=True)\n",
    "df_models"
   ]
  },
  {
   "cell_type": "markdown",
   "metadata": {},
   "source": [
    "## Data visualisation of prediction results"
   ]
  },
  {
   "cell_type": "code",
   "execution_count": 89,
   "metadata": {},
   "outputs": [
    {
     "data": {
      "text/plain": [
       "Text(0.5, 0, 'Availability')"
      ]
     },
     "execution_count": 89,
     "metadata": {},
     "output_type": "execute_result"
    },
    {
     "data": {
      "image/png": "[encoded data removed]",
      "text/plain": [
       "<Figure size 500x500 with 1 Axes>"
      ]
     },
     "metadata": {},
     "output_type": "display_data"
    }
   ],
   "source": [
    "import matplotlib.pyplot as plt\n",
    "\n",
    "# Training data\n",
    "plt.figure(figsize=(5, 5))\n",
    "plt.scatter(x=y_train, y=y_lr_train_pred, c=\"#7CAE00\", alpha=0.3)\n",
    "\n",
    "z = np.polyfit(y_train, y_lr_train_pred, 1)\n",
    "p = np.poly1d(z)\n",
    "\n",
    "plt.plot(y_train, p(y_train), \"#F8766D\")\n",
    "plt.ylabel(\"Predicted availability\")\n",
    "plt.xlabel(\"Availability\")"
   ]
  },
  {
   "cell_type": "code",
   "execution_count": 91,
   "metadata": {},
   "outputs": [
    {
     "data": {
      "text/plain": [
       "Text(0.5, 0, 'Availability')"
      ]
     },
     "execution_count": 91,
     "metadata": {},
     "output_type": "execute_result"
    },
    {
     "data": {
      "image/png": "[encoded data removed]",
      "text/plain": [
       "<Figure size 500x500 with 1 Axes>"
      ]
     },
     "metadata": {},
     "output_type": "display_data"
    }
   ],
   "source": [
    "# Test data\n",
    "plt.figure(figsize=(5, 5))\n",
    "plt.scatter(x=y_test, y=y_lr_test_pred, c=\"#F8766D\", alpha=0.3)\n",
    "\n",
    "z = np.polyfit(y_test, y_lr_test_pred, 1)\n",
    "p = np.poly1d(z)\n",
    "\n",
    "plt.plot(y_test, p(y_test), \"#7CAE00\")\n",
    "plt.ylabel(\"Predicted availability\")\n",
    "plt.xlabel(\"Availability\")"
   ]
  },
  {
   "attachments": {},
   "cell_type": "markdown",
   "metadata": {},
   "source": [
    "## Saving model to pickle file"
   ]
  },
  {
   "cell_type": "code",
   "execution_count": null,
   "metadata": {},
   "outputs": [],
   "source": [
    "import pickle\n",
    "\n",
    "file_name = \"predict_availability_model\"\n",
    "pickle.dump(lr, open(file_name, \"wb\"))"
   ]
  }
 ],
 "metadata": {
  "kernelspec": {
   "display_name": "comp30830",
   "language": "python",
   "name": "python3"
  },
  "language_info": {
   "codemirror_mode": {
    "name": "ipython",
    "version": 3
   },
   "file_extension": ".py",
   "mimetype": "text/x-python",
   "name": "python",
   "nbconvert_exporter": "python",
   "pygments_lexer": "ipython3",
   "version": "3.10.9"
  },
  "orig_nbformat": 4
 },
 "nbformat": 4,
 "nbformat_minor": 2
}
